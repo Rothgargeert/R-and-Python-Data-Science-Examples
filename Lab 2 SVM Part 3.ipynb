{
 "cells": [
  {
   "cell_type": "code",
   "execution_count": 1,
   "metadata": {},
   "outputs": [],
   "source": [
    "import pandas as pd"
   ]
  },
  {
   "cell_type": "code",
   "execution_count": 6,
   "metadata": {},
   "outputs": [
    {
     "data": {
      "text/html": [
       "<div>\n",
       "<style scoped>\n",
       "    .dataframe tbody tr th:only-of-type {\n",
       "        vertical-align: middle;\n",
       "    }\n",
       "\n",
       "    .dataframe tbody tr th {\n",
       "        vertical-align: top;\n",
       "    }\n",
       "\n",
       "    .dataframe thead th {\n",
       "        text-align: right;\n",
       "    }\n",
       "</style>\n",
       "<table border=\"1\" class=\"dataframe\">\n",
       "  <thead>\n",
       "    <tr style=\"text-align: right;\">\n",
       "      <th></th>\n",
       "      <th>letter</th>\n",
       "      <th>xbox</th>\n",
       "      <th>ybox</th>\n",
       "      <th>width</th>\n",
       "      <th>height</th>\n",
       "      <th>onpix</th>\n",
       "      <th>xbar</th>\n",
       "      <th>ybar</th>\n",
       "      <th>x2bar</th>\n",
       "      <th>y2bar</th>\n",
       "      <th>xybar</th>\n",
       "      <th>x2ybar</th>\n",
       "      <th>xy2bar</th>\n",
       "      <th>xedge</th>\n",
       "      <th>xedgey</th>\n",
       "      <th>yedge</th>\n",
       "      <th>yedgex</th>\n",
       "    </tr>\n",
       "  </thead>\n",
       "  <tbody>\n",
       "    <tr>\n",
       "      <td>0</td>\n",
       "      <td>T</td>\n",
       "      <td>2</td>\n",
       "      <td>8</td>\n",
       "      <td>3</td>\n",
       "      <td>5</td>\n",
       "      <td>1</td>\n",
       "      <td>8</td>\n",
       "      <td>13</td>\n",
       "      <td>0</td>\n",
       "      <td>6</td>\n",
       "      <td>6</td>\n",
       "      <td>10</td>\n",
       "      <td>8</td>\n",
       "      <td>0</td>\n",
       "      <td>8</td>\n",
       "      <td>0</td>\n",
       "      <td>8</td>\n",
       "    </tr>\n",
       "    <tr>\n",
       "      <td>1</td>\n",
       "      <td>I</td>\n",
       "      <td>5</td>\n",
       "      <td>12</td>\n",
       "      <td>3</td>\n",
       "      <td>7</td>\n",
       "      <td>2</td>\n",
       "      <td>10</td>\n",
       "      <td>5</td>\n",
       "      <td>5</td>\n",
       "      <td>4</td>\n",
       "      <td>13</td>\n",
       "      <td>3</td>\n",
       "      <td>9</td>\n",
       "      <td>2</td>\n",
       "      <td>8</td>\n",
       "      <td>4</td>\n",
       "      <td>10</td>\n",
       "    </tr>\n",
       "    <tr>\n",
       "      <td>2</td>\n",
       "      <td>D</td>\n",
       "      <td>4</td>\n",
       "      <td>11</td>\n",
       "      <td>6</td>\n",
       "      <td>8</td>\n",
       "      <td>6</td>\n",
       "      <td>10</td>\n",
       "      <td>6</td>\n",
       "      <td>2</td>\n",
       "      <td>6</td>\n",
       "      <td>10</td>\n",
       "      <td>3</td>\n",
       "      <td>7</td>\n",
       "      <td>3</td>\n",
       "      <td>7</td>\n",
       "      <td>3</td>\n",
       "      <td>9</td>\n",
       "    </tr>\n",
       "    <tr>\n",
       "      <td>3</td>\n",
       "      <td>N</td>\n",
       "      <td>7</td>\n",
       "      <td>11</td>\n",
       "      <td>6</td>\n",
       "      <td>6</td>\n",
       "      <td>3</td>\n",
       "      <td>5</td>\n",
       "      <td>9</td>\n",
       "      <td>4</td>\n",
       "      <td>6</td>\n",
       "      <td>4</td>\n",
       "      <td>4</td>\n",
       "      <td>10</td>\n",
       "      <td>6</td>\n",
       "      <td>10</td>\n",
       "      <td>2</td>\n",
       "      <td>8</td>\n",
       "    </tr>\n",
       "    <tr>\n",
       "      <td>4</td>\n",
       "      <td>G</td>\n",
       "      <td>2</td>\n",
       "      <td>1</td>\n",
       "      <td>3</td>\n",
       "      <td>1</td>\n",
       "      <td>1</td>\n",
       "      <td>8</td>\n",
       "      <td>6</td>\n",
       "      <td>6</td>\n",
       "      <td>6</td>\n",
       "      <td>6</td>\n",
       "      <td>5</td>\n",
       "      <td>9</td>\n",
       "      <td>1</td>\n",
       "      <td>7</td>\n",
       "      <td>5</td>\n",
       "      <td>10</td>\n",
       "    </tr>\n",
       "  </tbody>\n",
       "</table>\n",
       "</div>"
      ],
      "text/plain": [
       "  letter  xbox  ybox  width  height  onpix  xbar  ybar  x2bar  y2bar  xybar  \\\n",
       "0      T     2     8      3       5      1     8    13      0      6      6   \n",
       "1      I     5    12      3       7      2    10     5      5      4     13   \n",
       "2      D     4    11      6       8      6    10     6      2      6     10   \n",
       "3      N     7    11      6       6      3     5     9      4      6      4   \n",
       "4      G     2     1      3       1      1     8     6      6      6      6   \n",
       "\n",
       "   x2ybar  xy2bar  xedge  xedgey  yedge  yedgex  \n",
       "0      10       8      0       8      0       8  \n",
       "1       3       9      2       8      4      10  \n",
       "2       3       7      3       7      3       9  \n",
       "3       4      10      6      10      2       8  \n",
       "4       5       9      1       7      5      10  "
      ]
     },
     "execution_count": 6,
     "metadata": {},
     "output_type": "execute_result"
    }
   ],
   "source": [
    "input_file = \"letter.csv\" \n",
    "letters = pd.read_csv(input_file) \n",
    "letters.head(5) \n",
    "#Question 3: The target below is the letter and the others are input features\n",
    " "
   ]
  },
  {
   "cell_type": "code",
   "execution_count": 7,
   "metadata": {},
   "outputs": [],
   "source": [
    "from sklearn.model_selection import train_test_split"
   ]
  },
  {
   "cell_type": "code",
   "execution_count": 9,
   "metadata": {},
   "outputs": [],
   "source": [
    "#Divide the data to 90% for training and 10% for testing using seed of 1234\n",
    "from sklearn.preprocessing import LabelEncoder\n",
    "X = letters.drop(['letter'], axis=1) \n",
    "numbers = LabelEncoder() \n",
    "y = numbers.fit_transform(letters['letter'].astype('str')) \n",
    "X_train, X_test, y_train, y_test = train_test_split(X, y, test_size=0.10, random_state=1234)\n"
   ]
  },
  {
   "cell_type": "code",
   "execution_count": 17,
   "metadata": {},
   "outputs": [],
   "source": [
    "from sklearn import svm\n",
    "# Design the model\n",
    "clf = svm.SVC(kernel='linear')\n",
    "#clf = svm.LinearSVC(C=1)\n",
    "clf.fit(X_train, y_train)\n",
    "y_predict = clf.predict(X_test)"
   ]
  },
  {
   "cell_type": "code",
   "execution_count": 18,
   "metadata": {},
   "outputs": [
    {
     "data": {
      "text/plain": [
       "array([[71,  0,  0,  0,  0,  0,  0,  0,  0,  0,  1,  0,  0,  0,  0,  0,\n",
       "         0,  1,  0,  0,  0,  0,  0,  0,  2,  0],\n",
       "       [ 1, 67,  0,  1,  0,  0,  2,  1,  0,  0,  1,  0,  0,  0,  0,  0,\n",
       "         0,  2,  1,  0,  0,  0,  0,  0,  0,  0],\n",
       "       [ 0,  0, 67,  0,  2,  0,  1,  1,  0,  0,  0,  0,  0,  0,  1,  0,\n",
       "         0,  0,  0,  0,  0,  0,  0,  0,  0,  0],\n",
       "       [ 0,  5,  0, 67,  0,  0,  0,  1,  0,  1,  0,  0,  0,  0,  1,  0,\n",
       "         0,  0,  0,  0,  1,  0,  0,  0,  0,  0],\n",
       "       [ 0,  1,  1,  0, 58,  1,  3,  0,  1,  0,  1,  4,  0,  0,  0,  0,\n",
       "         2,  0,  1,  3,  0,  0,  0,  0,  0,  2],\n",
       "       [ 0,  1,  1,  0,  0, 74,  0,  0,  0,  1,  0,  0,  0,  2,  0,  1,\n",
       "         0,  0,  3,  2,  0,  0,  0,  0,  1,  0],\n",
       "       [ 0,  0,  4,  3,  1,  0, 61,  0,  0,  0,  1,  2,  0,  0,  0,  1,\n",
       "         2,  0,  4,  0,  0,  0,  1,  0,  0,  0],\n",
       "       [ 0,  1,  0,  0,  0,  2,  0, 52,  0,  1,  1,  1,  0,  0,  7,  0,\n",
       "         0,  3,  0,  0,  2,  0,  0,  1,  0,  0],\n",
       "       [ 0,  1,  0,  1,  0,  2,  0,  0, 67,  0,  0,  0,  0,  0,  0,  0,\n",
       "         0,  0,  0,  0,  0,  0,  0,  1,  0,  1],\n",
       "       [ 2,  0,  0,  0,  0,  1,  0,  0,  5, 67,  0,  0,  0,  0,  0,  0,\n",
       "         0,  0,  0,  0,  0,  0,  0,  0,  0,  1],\n",
       "       [ 0,  1,  2,  1,  0,  0,  3,  2,  0,  0, 68,  0,  0,  0,  0,  0,\n",
       "         0,  3,  0,  1,  0,  0,  0,  2,  0,  0],\n",
       "       [ 0,  0,  0,  0,  1,  0,  1,  1,  0,  0,  1, 63,  0,  0,  0,  0,\n",
       "         2,  0,  1,  0,  0,  0,  0,  0,  0,  0],\n",
       "       [ 0,  1,  0,  0,  0,  0,  0,  3,  0,  0,  0,  0, 83,  0,  1,  0,\n",
       "         0,  2,  0,  0,  1,  0,  0,  0,  0,  0],\n",
       "       [ 0,  0,  0,  0,  0,  0,  0,  1,  0,  0,  1,  0,  0, 65,  1,  0,\n",
       "         0,  1,  0,  0,  0,  1,  0,  0,  0,  0],\n",
       "       [ 1,  0,  1,  1,  0,  0,  0,  7,  0,  0,  0,  0,  1,  0, 66,  0,\n",
       "         1,  1,  0,  0,  1,  0,  1,  0,  0,  0],\n",
       "       [ 0,  0,  0,  0,  0,  9,  0,  0,  0,  0,  0,  0,  0,  0,  0, 69,\n",
       "         0,  0,  0,  0,  0,  0,  1,  0,  2,  0],\n",
       "       [ 3,  0,  0,  1,  0,  0,  1,  2,  0,  0,  1,  0,  0,  0,  3,  1,\n",
       "        49,  0,  4,  0,  0,  1,  0,  0,  0,  0],\n",
       "       [ 1,  3,  1,  1,  0,  0,  1,  1,  0,  0,  1,  0,  0,  0,  1,  0,\n",
       "         0, 62,  0,  0,  0,  0,  0,  0,  0,  0],\n",
       "       [ 0,  3,  0,  0,  2,  1,  2,  0,  1,  0,  0,  1,  0,  0,  0,  0,\n",
       "         4,  0, 51,  0,  0,  0,  0,  1,  0,  6],\n",
       "       [ 0,  0,  0,  0,  1,  0,  0,  0,  0,  0,  0,  0,  0,  0,  0,  1,\n",
       "         0,  0,  1, 76,  0,  0,  0,  0,  3,  0],\n",
       "       [ 0,  0,  0,  0,  0,  0,  0,  1,  0,  0,  0,  0,  1,  0,  1,  0,\n",
       "         0,  0,  0,  0, 70,  0,  0,  0,  0,  0],\n",
       "       [ 1,  1,  0,  0,  0,  0,  1,  1,  0,  0,  0,  0,  1,  0,  0,  0,\n",
       "         0,  0,  0,  0,  0, 69,  0,  0,  4,  0],\n",
       "       [ 0,  0,  0,  0,  0,  0,  1,  0,  0,  0,  0,  0,  4,  1,  1,  0,\n",
       "         0,  0,  0,  0,  3,  1, 68,  0,  0,  0],\n",
       "       [ 0,  0,  0,  0,  2,  0,  0,  0,  1,  1,  2,  2,  0,  0,  0,  0,\n",
       "         0,  0,  0,  0,  0,  0,  0, 73,  1,  0],\n",
       "       [ 1,  0,  0,  0,  0,  1,  0,  0,  0,  0,  0,  0,  0,  0,  0,  0,\n",
       "         0,  0,  0,  1,  0,  1,  0,  3, 76,  0],\n",
       "       [ 0,  0,  0,  0,  2,  0,  0,  0,  0,  3,  0,  0,  0,  0,  0,  0,\n",
       "         0,  0,  7,  0,  0,  0,  0,  0,  0, 62]], dtype=int64)"
      ]
     },
     "execution_count": 18,
     "metadata": {},
     "output_type": "execute_result"
    }
   ],
   "source": [
    "from sklearn.metrics import confusion_matrix\n",
    "confusion_matrix(y_test, y_predict)"
   ]
  },
  {
   "cell_type": "code",
   "execution_count": 22,
   "metadata": {},
   "outputs": [],
   "source": [
    "y_predict = clf.predict(X)\n"
   ]
  },
  {
   "cell_type": "code",
   "execution_count": 23,
   "metadata": {},
   "outputs": [],
   "source": [
    "from sklearn.metrics import accuracy_score\n"
   ]
  },
  {
   "cell_type": "code",
   "execution_count": 24,
   "metadata": {},
   "outputs": [
    {
     "data": {
      "text/plain": [
       "86.92"
      ]
     },
     "execution_count": 24,
     "metadata": {},
     "output_type": "execute_result"
    }
   ],
   "source": [
    "accuracy_score(y, y_predict)*100\n",
    "#The accuracy score is 86.92"
   ]
  },
  {
   "cell_type": "code",
   "execution_count": 27,
   "metadata": {},
   "outputs": [
    {
     "data": {
      "text/plain": [
       "92.9"
      ]
     },
     "execution_count": 27,
     "metadata": {},
     "output_type": "execute_result"
    }
   ],
   "source": [
    "# DImproving the model-1 \n",
    "clf = svm.SVC(kernel='rbf', gamma =0.3) \n",
    "#clf = svm.LinearSVC(C=1)\n",
    "clf.fit(X_train, y_train) \n",
    "y_predict = clf.predict(X_test) \n",
    "accuracy_score(y_test, y_predict)*100 \n",
    "#The model improves to 92.9 by using an RBF kernel\n"
   ]
  },
  {
   "cell_type": "code",
   "execution_count": 28,
   "metadata": {},
   "outputs": [
    {
     "name": "stderr",
     "output_type": "stream",
     "text": [
      "C:\\Users\\rothg\\Anaconda3\\lib\\site-packages\\sklearn\\svm\\base.py:193: FutureWarning: The default value of gamma will change from 'auto' to 'scale' in version 0.22 to account better for unscaled features. Set gamma explicitly to 'auto' or 'scale' to avoid this warning.\n",
      "  \"avoid this warning.\", FutureWarning)\n"
     ]
    },
    {
     "data": {
      "text/plain": [
       "94.45"
      ]
     },
     "execution_count": 28,
     "metadata": {},
     "output_type": "execute_result"
    }
   ],
   "source": [
    "# DImproving the model-2 \n",
    "clf = svm.SVC(kernel='poly', degree=8) \n",
    "#clf = svm.LinearSVC(C=1) \n",
    "clf.fit(X_train, y_train) \n",
    "y_predict = clf.predict(X_test) \n",
    "accuracy_score(y_test, y_predict)*100 \n",
    "#The model improves to 94.45 by using a polynomial kernel"
   ]
  },
  {
   "cell_type": "code",
   "execution_count": null,
   "metadata": {},
   "outputs": [],
   "source": []
  }
 ],
 "metadata": {
  "kernelspec": {
   "display_name": "Python 3",
   "language": "python",
   "name": "python3"
  },
  "language_info": {
   "codemirror_mode": {
    "name": "ipython",
    "version": 3
   },
   "file_extension": ".py",
   "mimetype": "text/x-python",
   "name": "python",
   "nbconvert_exporter": "python",
   "pygments_lexer": "ipython3",
   "version": "3.7.4"
  }
 },
 "nbformat": 4,
 "nbformat_minor": 2
}
