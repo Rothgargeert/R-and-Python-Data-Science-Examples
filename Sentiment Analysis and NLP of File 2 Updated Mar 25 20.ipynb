{
 "cells": [
  {
   "cell_type": "code",
   "execution_count": 1,
   "metadata": {},
   "outputs": [
    {
     "name": "stdout",
     "output_type": "stream",
     "text": [
      "Requirement already satisfied: nltk in c:\\users\\rothg\\anaconda3\\lib\\site-packages (3.4.5)\n",
      "Requirement already satisfied: six in c:\\users\\rothg\\anaconda3\\lib\\site-packages (from nltk) (1.12.0)\n",
      "Note: you may need to restart the kernel to use updated packages.\n"
     ]
    }
   ],
   "source": [
    "pip install nltk"
   ]
  },
  {
   "cell_type": "code",
   "execution_count": 2,
   "metadata": {},
   "outputs": [],
   "source": [
    "import nltk"
   ]
  },
  {
   "cell_type": "code",
   "execution_count": 3,
   "metadata": {
    "scrolled": false
   },
   "outputs": [
    {
     "name": "stdout",
     "output_type": "stream",
     "text": [
      "Speaker 0: \n",
      "J. right Miron. \n",
      "Speaker 1: \n",
      "Hello. \n",
      "Speaker 1: \n",
      "It did not even rang on my end I thought it was not working. \n",
      "Speaker 1: \n",
      "But here you are okay going. \n",
      "Speaker 0: \n",
      "Up the question. \n",
      "Speaker 1: \n",
      "Like five minutes or less and then. \n",
      "Speaker 1: \n",
      "That should be enough if we can do to at least say that would be great okay. \n",
      "Speaker 1: \n",
      "Welcome anyone now and then one in the afternoon that's not good. \n",
      "Speaker 1: \n",
      "During the four hour. \n",
      "Speaker 1: \n",
      "It is. \n",
      "Speaker 0: \n",
      "It is actually spectacular outside. \n",
      "Speaker 0: \n",
      "I went out there when Tara was getting sick was beautiful. \n",
      "Speaker 1: \n",
      "Not. \n",
      "Speaker 0: \n",
      "Sick but the beautiful. \n",
      "Speaker 1: \n",
      "Day at. \n",
      "Speaker 0: \n",
      "Warm up a little bit which will be at. \n",
      "Speaker 1: \n",
      "Yeah that's awesome I think I might sit outside and work on it that's nine. \n",
      "Speaker 0: \n",
      "Oh yeah we my husband we were to do that yeah looks like it's going to be like this is an order go run around outside. \n",
      "Speaker 1: \n",
      "Yeah. \n",
      "Speaker 1: \n",
      "Yep when you have ten minutes to get outside sitting out on Sunday yeah. \n",
      "Speaker 1: \n",
      "Okay okay awesome so what else is going on over there. \n",
      "Speaker 0: \n",
      "Shows Charlotte just woke up a little bit ago she's feeling very tired she needs to go up Darwin okay are and not feeling very well they were worried about that. \n",
      "Speaker 0: \n",
      "Thank you. \n",
      "Speaker 1: \n",
      "With the new. \n",
      "Speaker 0: \n",
      "School online as we speak. \n",
      "Speaker 1: \n",
      "One. \n",
      "Speaker 0: \n",
      "Not sure how that's going. \n",
      "Speaker 0: \n",
      "Teachers are available from ten thirty to twelve thirty and everything else like posted online this is all I can do what we are normal. \n",
      "Speaker 1: \n",
      "Interesting yeah. \n",
      "Speaker 0: \n",
      "Right. \n",
      "Speaker 0: \n",
      "And buckets of tears working. \n",
      "Speaker 1: \n",
      "Okay. \n",
      "Speaker 0: \n",
      "Working in his new office up in the den. \n",
      "Speaker 1: \n",
      "Yeah. \n",
      "Speaker 1: \n",
      "So what is sorely gonna do online school then too but he's technically on spring break right now. \n",
      "Speaker 0: \n",
      "She is on. \n",
      "Speaker 1: \n",
      "Spring. \n",
      "Speaker 0: \n",
      "Break in fact your your Darling. \n",
      "Speaker 1: \n",
      "Yes all I know. \n",
      "Speaker 0: \n",
      "Little friend of next door so that he gets confused because they have a belly ache but I want to go play. \n",
      "Speaker 1: \n",
      "Golf. \n",
      "Speaker 0: \n",
      "Or it. \n",
      "Speaker 1: \n",
      "May have hurt but. \n",
      "Speaker 0: \n",
      "Speaker 1: \n",
      "So can you. \n",
      "Speaker 0: \n",
      "Yes can you ask Robert Indiana because thank you can't open it without their permission our neighbors because they keep their doors open. \n",
      "Speaker 1: \n",
      "Okay. \n",
      "Speaker 0: \n",
      "So darn close into their house steals the cat food. \n",
      "Speaker 1: \n",
      "No water at all LOL yeah. \n",
      "Speaker 1: \n",
      "Hello I think he is a cash money he's not feeling good. \n",
      "Speaker 0: \n",
      "We have like a girl he doesn't always agree with him. \n",
      "Speaker 1: \n",
      "The. \n",
      "Speaker 1: \n",
      "Colin dies just try to replace. \n",
      "Speaker 1: \n",
      "That's my. \n",
      "Speaker 0: \n",
      "Feeling when you can. \n",
      "Speaker 0: \n",
      "So how are you guys feeling. \n",
      "Speaker 1: \n",
      "Good yeah but also returning. \n",
      "Speaker 1: \n",
      "He's fine he hasn't come across any cases yet although it just to get an email from the L. Lancaster news online or something as though they have a confirmed case LG H. now. \n",
      "Speaker 1: \n",
      "Username no and he's there every day and all of that but today's his last night and then he's off for six days so that could be done. \n",
      "Speaker 0: \n",
      "Yeah. \n",
      "Speaker 1: \n",
      "Unless somebody on their staff guests and then everybody goes home and everybody off comes and. \n",
      "Speaker 1: \n",
      "Okay so we're looking to see how it goes. \n",
      "Speaker 0: \n",
      "Yeah. \n",
      "Speaker 1: \n",
      "He seems to not really be worried about it so. \n",
      "Speaker 1: \n",
      "Yeah that's more of a nuisance actually comes at yes every patient is not feeling well start I have the chrome black right no they don't yes and no one has had it so far but every night he has multiple people who call and have it. \n",
      "Speaker 1: \n",
      "How are you. \n",
      "Speaker 0: \n",
      "Like the bird have passed on. \n",
      "Speaker 1: \n",
      "I don't think so they taken to the hospital and I guess they toss in there but nothing on the truck yeah. \n",
      "Speaker 1: \n",
      "He. \n",
      "Speaker 0: \n",
      "Is there a separate. \n",
      "Speaker 1: \n",
      "The. \n",
      "Speaker 0: \n",
      "Way the hospital where they have like themed at. \n",
      "Speaker 1: \n",
      "I hope so I don't know. \n",
      "Speaker 0: \n",
      "You know. \n",
      "Speaker 1: \n",
      "Yeah I'm not sure it's a good question I would hope not. \n",
      "Speaker 0: \n",
      "Yeah. \n",
      "Speaker 0: \n",
      "I thought something on link down because I couldn't find my article on the. \n",
      "Speaker 0: \n",
      "I do it right. \n",
      "Speaker 0: \n",
      "And then I thought something from corrie Meyer. \n",
      "Speaker 1: \n",
      "Yeah. \n",
      "Speaker 0: \n",
      "He did you see that post. \n",
      "Speaker 1: \n",
      "I did not. \n",
      "Speaker 0: \n",
      "You put in there like I just had to find emergency something or other this is really like coming to the event like this is really weird like I ever thought I have to do that like right. \n",
      "Speaker 0: \n",
      "One is weird flooding right now. \n",
      "Speaker 1: \n",
      "Yeah it's super strange. \n",
      "Speaker 0: \n",
      "Really strange. \n",
      "Speaker 1: \n",
      "Yeah. \n",
      "(Detecting speakers): \n",
      "Warlike mentality of like world like a world \n",
      "\n",
      "\n"
     ]
    }
   ],
   "source": [
    "myfile='File 2 Transcript.txt'\n",
    "wtxt=open(myfile).read()\n",
    "print(wtxt)"
   ]
  },
  {
   "cell_type": "code",
   "execution_count": 4,
   "metadata": {},
   "outputs": [
    {
     "name": "stdout",
     "output_type": "stream",
     "text": [
      "Requirement already satisfied: wordcloud in c:\\users\\rothg\\anaconda3\\lib\\site-packages (1.6.0)\n",
      "Requirement already satisfied: pillow in c:\\users\\rothg\\anaconda3\\lib\\site-packages (from wordcloud) (6.2.0)\n",
      "Requirement already satisfied: numpy>=1.6.1 in c:\\users\\rothg\\anaconda3\\lib\\site-packages (from wordcloud) (1.16.5)\n",
      "Requirement already satisfied: matplotlib in c:\\users\\rothg\\anaconda3\\lib\\site-packages (from wordcloud) (3.1.1)\n",
      "Requirement already satisfied: cycler>=0.10 in c:\\users\\rothg\\anaconda3\\lib\\site-packages (from matplotlib->wordcloud) (0.10.0)\n",
      "Requirement already satisfied: kiwisolver>=1.0.1 in c:\\users\\rothg\\anaconda3\\lib\\site-packages (from matplotlib->wordcloud) (1.1.0)\n",
      "Requirement already satisfied: pyparsing!=2.0.4,!=2.1.2,!=2.1.6,>=2.0.1 in c:\\users\\rothg\\anaconda3\\lib\\site-packages (from matplotlib->wordcloud) (2.4.2)\n",
      "Requirement already satisfied: python-dateutil>=2.1 in c:\\users\\rothg\\anaconda3\\lib\\site-packages (from matplotlib->wordcloud) (2.8.0)\n",
      "Requirement already satisfied: six in c:\\users\\rothg\\anaconda3\\lib\\site-packages (from cycler>=0.10->matplotlib->wordcloud) (1.12.0)\n",
      "Requirement already satisfied: setuptools in c:\\users\\rothg\\anaconda3\\lib\\site-packages (from kiwisolver>=1.0.1->matplotlib->wordcloud) (41.4.0)\n",
      "Note: you may need to restart the kernel to use updated packages.\n"
     ]
    }
   ],
   "source": [
    "pip install wordcloud"
   ]
  },
  {
   "cell_type": "code",
   "execution_count": 5,
   "metadata": {},
   "outputs": [],
   "source": [
    "import matplotlib.pyplot as plt\n",
    "from wordcloud import WordCloud, STOPWORDS\n",
    "stopwords=set(STOPWORDS)"
   ]
  },
  {
   "cell_type": "code",
   "execution_count": 6,
   "metadata": {},
   "outputs": [],
   "source": [
    "wordcloud=WordCloud(stopwords=stopwords, max_words=25,\\\n",
    "                    background_color=\"white\").generate(wtxt)"
   ]
  },
  {
   "cell_type": "code",
   "execution_count": 7,
   "metadata": {},
   "outputs": [
    {
     "data": {
      "text/plain": [
       "<function matplotlib.pyplot.show(*args, **kw)>"
      ]
     },
     "execution_count": 7,
     "metadata": {},
     "output_type": "execute_result"
    },
    {
     "data": {
      "image/png": "[encoded data removed]",
      "text/plain": [
       "<Figure size 432x288 with 1 Axes>"
      ]
     },
     "metadata": {
      "needs_background": "light"
     },
     "output_type": "display_data"
    }
   ],
   "source": [
    "plt.imshow(wordcloud)\n",
    "plt.axis(\"off\")\n",
    "plt.show"
   ]
  },
  {
   "cell_type": "code",
   "execution_count": 8,
   "metadata": {},
   "outputs": [],
   "source": [
    "def plot_wordcloud(wordcloud):\n",
    "    plt.imshow(wordcloud)\n",
    "    plt.axis(\"off\")\n",
    "    plt.show()\n"
   ]
  },
  {
   "cell_type": "code",
   "execution_count": 9,
   "metadata": {},
   "outputs": [
    {
     "data": {
      "image/png": "[encoded data removed]",
      "text/plain": [
       "<Figure size 432x288 with 1 Axes>"
      ]
     },
     "metadata": {
      "needs_background": "light"
     },
     "output_type": "display_data"
    }
   ],
   "source": [
    "wordcloud = WordCloud(stopwords={'Speaker'},max_words=25,\n",
    "                      background_color=\"white\").generate(wtxt)                               \n",
    "plot_wordcloud(wordcloud)\n",
    "#Eliminating \"Speaker\" since it just identifies who's speaking"
   ]
  },
  {
   "cell_type": "code",
   "execution_count": 10,
   "metadata": {},
   "outputs": [
    {
     "data": {
      "image/png": "[encoded data removed]",
      "text/plain": [
       "<Figure size 432x288 with 1 Axes>"
      ]
     },
     "metadata": {
      "needs_background": "light"
     },
     "output_type": "display_data"
    }
   ],
   "source": [
    "stopwords.update ([\"Yeah,\" \"it\", \"that\",\"to\",\"the\",\"but\", \"Speaker\", \"Yeah\", \"okay\"])\n",
    "\n",
    "wordcloud = WordCloud(relative_scaling=1.0, stopwords=stopwords, \n",
    "                      max_words=25, background_color=\"azure\").generate(wtxt)\n",
    "\n",
    "plot_wordcloud(wordcloud)\n"
   ]
  },
  {
   "cell_type": "code",
   "execution_count": 11,
   "metadata": {},
   "outputs": [
    {
     "name": "stdout",
     "output_type": "stream",
     "text": [
      "4814\n"
     ]
    }
   ],
   "source": [
    "print(len(wtxt))#no. of total words"
   ]
  },
  {
   "cell_type": "code",
   "execution_count": 12,
   "metadata": {},
   "outputs": [
    {
     "name": "stdout",
     "output_type": "stream",
     "text": [
      "53\n"
     ]
    }
   ],
   "source": [
    "print(len(set(wtxt))) #no.of unique words"
   ]
  },
  {
   "cell_type": "code",
   "execution_count": 13,
   "metadata": {},
   "outputs": [
    {
     "name": "stdout",
     "output_type": "stream",
     "text": [
      "4\n"
     ]
    }
   ],
   "source": [
    "print(wtxt.count(\"outside\")) #no. of specific words"
   ]
  },
  {
   "cell_type": "code",
   "execution_count": 14,
   "metadata": {},
   "outputs": [
    {
     "name": "stdout",
     "output_type": "stream",
     "text": [
      "5\n"
     ]
    }
   ],
   "source": [
    "print(wtxt.count(\"feeling\"))"
   ]
  },
  {
   "cell_type": "code",
   "execution_count": 15,
   "metadata": {},
   "outputs": [
    {
     "name": "stdout",
     "output_type": "stream",
     "text": [
      "3\n"
     ]
    }
   ],
   "source": [
    "print(wtxt.count(\"good\"))"
   ]
  },
  {
   "cell_type": "code",
   "execution_count": 24,
   "metadata": {},
   "outputs": [
    {
     "name": "stderr",
     "output_type": "stream",
     "text": [
      "[nltk_data] Downloading package vader_lexicon to\n",
      "[nltk_data]     C:\\Users\\rothg\\AppData\\Roaming\\nltk_data...\n",
      "[nltk_data]   Package vader_lexicon is already up-to-date!\n",
      "[nltk_data] Downloading package punkt to\n",
      "[nltk_data]     C:\\Users\\rothg\\AppData\\Roaming\\nltk_data...\n",
      "[nltk_data]   Package punkt is already up-to-date!\n"
     ]
    },
    {
     "data": {
      "text/plain": [
       "True"
      ]
     },
     "execution_count": 24,
     "metadata": {},
     "output_type": "execute_result"
    }
   ],
   "source": [
    "#Preparation for entire text overall sentiment analysis\n",
    "import nltk\n",
    "nltk.download('vader_lexicon')\n",
    "nltk.download('punkt')"
   ]
  },
  {
   "cell_type": "code",
   "execution_count": 25,
   "metadata": {},
   "outputs": [],
   "source": [
    "from nltk.sentiment.vader import SentimentIntensityAnalyzer\n"
   ]
  },
  {
   "cell_type": "code",
   "execution_count": 26,
   "metadata": {},
   "outputs": [],
   "source": [
    "sid = SentimentIntensityAnalyzer()"
   ]
  },
  {
   "cell_type": "code",
   "execution_count": 27,
   "metadata": {},
   "outputs": [],
   "source": [
    "scores = sid.polarity_scores(wtxt)"
   ]
  },
  {
   "cell_type": "code",
   "execution_count": 28,
   "metadata": {},
   "outputs": [
    {
     "name": "stdout",
     "output_type": "stream",
     "text": [
      "compound: 0.9992, neg: 0.071, neu: 0.726, pos: 0.204, "
     ]
    }
   ],
   "source": [
    "#Entire text sentiment analysis\n",
    "for key in sorted(scores):\n",
    "    print('{0}: {1}, '.format(key, scores[key]), end='')"
   ]
  },
  {
   "cell_type": "code",
   "execution_count": 39,
   "metadata": {},
   "outputs": [],
   "source": [
    "import matplotlib.pyplot as plt"
   ]
  },
  {
   "cell_type": "code",
   "execution_count": 41,
   "metadata": {
    "scrolled": false
   },
   "outputs": [
    {
     "data": {
      "image/png": "[encoded data removed]",
      "text/plain": [
       "<Figure size 432x288 with 1 Axes>"
      ]
     },
     "metadata": {},
     "output_type": "display_data"
    }
   ],
   "source": [
    "ss = sid.polarity_scores(wtxt)\n",
    "labels = ['negative', 'neutral', 'positive']\n",
    "sizes  = [ss['neg'], ss['neu'], ss['pos']]\n",
    "plt.pie(sizes, labels=labels, autopct='%1.1f%%') # autopct='%1.1f%%' gives you percentages printed in every slice.\n",
    "plt.axis('equal')  # Ensures that pie is drawn as a circle.\n",
    "plt.show()"
   ]
  },
  {
   "cell_type": "code",
   "execution_count": 42,
   "metadata": {},
   "outputs": [],
   "source": [
    "#Preparation of sentence level sentiment analysis\n",
    "from nltk import sentiment\n",
    "from nltk import word_tokenize"
   ]
  },
  {
   "cell_type": "code",
   "execution_count": 43,
   "metadata": {},
   "outputs": [],
   "source": [
    "sid = SentimentIntensityAnalyzer()"
   ]
  },
  {
   "cell_type": "code",
   "execution_count": 44,
   "metadata": {},
   "outputs": [],
   "source": [
    "tokenizer = nltk.data.load('tokenizers/punkt/english.pickle')"
   ]
  },
  {
   "cell_type": "code",
   "execution_count": 45,
   "metadata": {},
   "outputs": [],
   "source": [
    "sentences = tokenizer.tokenize(wtxt)"
   ]
  },
  {
   "cell_type": "code",
   "execution_count": 46,
   "metadata": {
    "scrolled": false
   },
   "outputs": [
    {
     "name": "stdout",
     "output_type": "stream",
     "text": [
      "Speaker 0: \n",
      "J. right Miron.\n",
      "compound: 0.0, neg: 0.0, neu: 1.0, pos: 0.0, \n",
      "Speaker 1: \n",
      "Hello.\n",
      "compound: 0.0, neg: 0.0, neu: 1.0, pos: 0.0, \n",
      "Speaker 1: \n",
      "It did not even rang on my end I thought it was not working.\n",
      "compound: 0.0, neg: 0.0, neu: 1.0, pos: 0.0, \n",
      "Speaker 1: \n",
      "But here you are okay going.\n",
      "compound: 0.2263, neg: 0.0, neu: 0.787, pos: 0.213, \n",
      "Speaker 0: \n",
      "Up the question.\n",
      "compound: 0.0, neg: 0.0, neu: 1.0, pos: 0.0, \n",
      "Speaker 1: \n",
      "Like five minutes or less and then.\n",
      "compound: 0.3612, neg: 0.0, neu: 0.762, pos: 0.238, \n",
      "Speaker 1: \n",
      "That should be enough if we can do to at least say that would be great okay.\n",
      "compound: 0.7184, neg: 0.0, neu: 0.739, pos: 0.261, \n",
      "Speaker 1: \n",
      "Welcome anyone now and then one in the afternoon that's not good.\n",
      "compound: 0.1516, neg: 0.138, neu: 0.689, pos: 0.172, \n",
      "Speaker 1: \n",
      "During the four hour.\n",
      "compound: 0.0, neg: 0.0, neu: 1.0, pos: 0.0, \n",
      "Speaker 1: \n",
      "It is.\n",
      "compound: 0.0, neg: 0.0, neu: 1.0, pos: 0.0, \n",
      "Speaker 0: \n",
      "It is actually spectacular outside.\n",
      "compound: 0.0, neg: 0.0, neu: 1.0, pos: 0.0, \n",
      "Speaker 0: \n",
      "I went out there when Tara was getting sick was beautiful.\n",
      "compound: 0.1531, neg: 0.192, neu: 0.581, pos: 0.227, \n",
      "Speaker 1: \n",
      "Not.\n",
      "compound: 0.0, neg: 0.0, neu: 1.0, pos: 0.0, \n",
      "Speaker 0: \n",
      "Sick but the beautiful.\n",
      "compound: 0.6369, neg: 0.187, neu: 0.348, pos: 0.465, \n",
      "Speaker 1: \n",
      "Day at.\n",
      "compound: 0.0, neg: 0.0, neu: 1.0, pos: 0.0, \n",
      "Speaker 0: \n",
      "Warm up a little bit which will be at.\n",
      "compound: 0.2263, neg: 0.0, neu: 0.826, pos: 0.174, \n",
      "Speaker 1: \n",
      "Yeah that's awesome I think I might sit outside and work on it that's nine.\n",
      "compound: 0.743, neg: 0.0, neu: 0.674, pos: 0.326, \n",
      "Speaker 0: \n",
      "Oh yeah we my husband we were to do that yeah looks like it's going to be like this is an order go run around outside.\n",
      "compound: 0.8126, neg: 0.0, neu: 0.719, pos: 0.281, \n",
      "Speaker 1: \n",
      "Yeah.\n",
      "compound: 0.296, neg: 0.0, neu: 0.476, pos: 0.524, \n",
      "Speaker 1: \n",
      "Yep when you have ten minutes to get outside sitting out on Sunday yeah.\n",
      "compound: 0.5267, neg: 0.0, neu: 0.761, pos: 0.239, \n",
      "Speaker 1: \n",
      "Okay okay awesome so what else is going on over there.\n",
      "compound: 0.7845, neg: 0.0, neu: 0.559, pos: 0.441, \n",
      "Speaker 0: \n",
      "Shows Charlotte just woke up a little bit ago she's feeling very tired she needs to go up Darwin okay are and not feeling very well they were worried about that.\n",
      "compound: -0.546, neg: 0.194, neu: 0.678, pos: 0.128, \n",
      "Speaker 0: \n",
      "Thank you.\n",
      "compound: 0.3612, neg: 0.0, neu: 0.545, pos: 0.455, \n",
      "Speaker 1: \n",
      "With the new.\n",
      "compound: 0.0, neg: 0.0, neu: 1.0, pos: 0.0, \n",
      "Speaker 0: \n",
      "School online as we speak.\n",
      "compound: 0.0, neg: 0.0, neu: 1.0, pos: 0.0, \n",
      "Speaker 1: \n",
      "One.\n",
      "compound: 0.0, neg: 0.0, neu: 1.0, pos: 0.0, \n",
      "Speaker 0: \n",
      "Not sure how that's going.\n",
      "compound: -0.2411, neg: 0.246, neu: 0.754, pos: 0.0, \n",
      "Speaker 0: \n",
      "Teachers are available from ten thirty to twelve thirty and everything else like posted online this is all I can do what we are normal.\n",
      "compound: 0.3612, neg: 0.0, neu: 0.909, pos: 0.091, \n",
      "Speaker 1: \n",
      "Interesting yeah.\n",
      "compound: 0.5994, neg: 0.0, neu: 0.29, pos: 0.71, \n",
      "Speaker 0: \n",
      "Right.\n",
      "compound: 0.0, neg: 0.0, neu: 1.0, pos: 0.0, \n",
      "Speaker 0: \n",
      "And buckets of tears working.\n",
      "compound: -0.2263, neg: 0.241, neu: 0.759, pos: 0.0, \n",
      "Speaker 1: \n",
      "Okay.\n",
      "compound: 0.2263, neg: 0.0, neu: 0.513, pos: 0.487, \n",
      "Speaker 0: \n",
      "Working in his new office up in the den.\n",
      "compound: 0.0, neg: 0.0, neu: 1.0, pos: 0.0, \n",
      "Speaker 1: \n",
      "Yeah.\n",
      "compound: 0.296, neg: 0.0, neu: 0.476, pos: 0.524, \n",
      "Speaker 1: \n",
      "So what is sorely gonna do online school then too but he's technically on spring break right now.\n",
      "compound: 0.0, neg: 0.0, neu: 1.0, pos: 0.0, \n",
      "Speaker 0: \n",
      "She is on.\n",
      "compound: 0.0, neg: 0.0, neu: 1.0, pos: 0.0, \n",
      "Speaker 1: \n",
      "Spring.\n",
      "compound: 0.0, neg: 0.0, neu: 1.0, pos: 0.0, \n",
      "Speaker 0: \n",
      "Break in fact your your Darling.\n",
      "compound: 0.5859, neg: 0.0, neu: 0.648, pos: 0.352, \n",
      "Speaker 1: \n",
      "Yes all I know.\n",
      "compound: 0.4019, neg: 0.0, neu: 0.597, pos: 0.403, \n",
      "Speaker 0: \n",
      "Little friend of next door so that he gets confused because they have a belly ache but I want to go play.\n",
      "compound: 0.4684, neg: 0.128, neu: 0.631, pos: 0.241, \n",
      "Speaker 1: \n",
      "Golf.\n",
      "compound: 0.0, neg: 0.0, neu: 1.0, pos: 0.0, \n",
      "Speaker 0: \n",
      "Or it.\n",
      "compound: 0.0, neg: 0.0, neu: 1.0, pos: 0.0, \n",
      "Speaker 1: \n",
      "May have hurt but.\n",
      "compound: -0.296, neg: 0.306, neu: 0.694, pos: 0.0, \n",
      "Speaker 0: \n",
      "Speaker 1: \n",
      "So can you.\n",
      "compound: 0.0, neg: 0.0, neu: 1.0, pos: 0.0, \n",
      "Speaker 0: \n",
      "Yes can you ask Robert Indiana because thank you can't open it without their permission our neighbors because they keep their doors open.\n",
      "compound: 0.6369, neg: 0.0, neu: 0.816, pos: 0.184, \n",
      "Speaker 1: \n",
      "Okay.\n",
      "compound: 0.2263, neg: 0.0, neu: 0.513, pos: 0.487, \n",
      "Speaker 0: \n",
      "So darn close into their house steals the cat food.\n",
      "compound: -0.5106, neg: 0.231, neu: 0.769, pos: 0.0, \n",
      "Speaker 1: \n",
      "No water at all LOL yeah.\n",
      "compound: 0.5473, neg: 0.17, neu: 0.387, pos: 0.443, \n",
      "Speaker 1: \n",
      "Hello I think he is a cash money he's not feeling good.\n",
      "compound: -0.4168, neg: 0.274, neu: 0.726, pos: 0.0, \n",
      "Speaker 0: \n",
      "We have like a girl he doesn't always agree with him.\n",
      "compound: 0.1002, neg: 0.144, neu: 0.684, pos: 0.171, \n",
      "Speaker 1: \n",
      "The.\n",
      "compound: 0.0, neg: 0.0, neu: 1.0, pos: 0.0, \n",
      "Speaker 1: \n",
      "Colin dies just try to replace.\n",
      "compound: 0.0, neg: 0.0, neu: 1.0, pos: 0.0, \n",
      "Speaker 1: \n",
      "That's my.\n",
      "compound: 0.0, neg: 0.0, neu: 1.0, pos: 0.0, \n",
      "Speaker 0: \n",
      "Feeling when you can.\n",
      "compound: 0.128, neg: 0.0, neu: 0.769, pos: 0.231, \n",
      "Speaker 0: \n",
      "So how are you guys feeling.\n",
      "compound: 0.128, neg: 0.0, neu: 0.824, pos: 0.176, \n",
      "Speaker 1: \n",
      "Good yeah but also returning.\n",
      "compound: 0.3716, neg: 0.0, neu: 0.585, pos: 0.415, \n",
      "Speaker 1: \n",
      "He's fine he hasn't come across any cases yet although it just to get an email from the L. Lancaster news online or something as though they have a confirmed case LG H. now.\n",
      "compound: 0.2023, neg: 0.0, neu: 0.95, pos: 0.05, \n",
      "Speaker 1: \n",
      "Username no and he's there every day and all of that but today's his last night and then he's off for six days so that could be done.\n",
      "compound: -0.1531, neg: 0.052, neu: 0.948, pos: 0.0, \n",
      "Speaker 0: \n",
      "Yeah.\n",
      "compound: 0.296, neg: 0.0, neu: 0.476, pos: 0.524, \n",
      "Speaker 1: \n",
      "Unless somebody on their staff guests and then everybody goes home and everybody off comes and.\n",
      "compound: 0.0, neg: 0.0, neu: 1.0, pos: 0.0, \n",
      "Speaker 1: \n",
      "Okay so we're looking to see how it goes.\n",
      "compound: 0.2263, neg: 0.0, neu: 0.84, pos: 0.16, \n",
      "Speaker 0: \n",
      "Yeah.\n",
      "compound: 0.296, neg: 0.0, neu: 0.476, pos: 0.524, \n",
      "Speaker 1: \n",
      "He seems to not really be worried about it so.\n",
      "compound: 0.2718, neg: 0.0, neu: 0.84, pos: 0.16, \n",
      "Speaker 1: \n",
      "Yeah that's more of a nuisance actually comes at yes every patient is not feeling well start I have the chrome black right no they don't yes and no one has had it so far but every night he has multiple people who call and have it.\n",
      "compound: 0.1301, neg: 0.113, neu: 0.783, pos: 0.104, \n",
      "Speaker 1: \n",
      "How are you.\n",
      "compound: 0.0, neg: 0.0, neu: 1.0, pos: 0.0, \n",
      "Speaker 0: \n",
      "Like the bird have passed on.\n",
      "compound: 0.3612, neg: 0.0, neu: 0.737, pos: 0.263, \n",
      "Speaker 1: \n",
      "I don't think so they taken to the hospital and I guess they toss in there but nothing on the truck yeah.\n",
      "compound: 0.4215, neg: 0.0, neu: 0.882, pos: 0.118, \n",
      "Speaker 1: \n",
      "He.\n",
      "compound: 0.0, neg: 0.0, neu: 1.0, pos: 0.0, \n",
      "Speaker 0: \n",
      "Is there a separate.\n",
      "compound: 0.0, neg: 0.0, neu: 1.0, pos: 0.0, \n",
      "Speaker 1: \n",
      "The.\n",
      "compound: 0.0, neg: 0.0, neu: 1.0, pos: 0.0, \n",
      "Speaker 0: \n",
      "Way the hospital where they have like themed at.\n",
      "compound: 0.3612, neg: 0.0, neu: 0.8, pos: 0.2, \n",
      "Speaker 1: \n",
      "I hope so I don't know.\n",
      "compound: 0.4404, neg: 0.0, neu: 0.633, pos: 0.367, \n",
      "Speaker 0: \n",
      "You know.\n",
      "compound: 0.0, neg: 0.0, neu: 1.0, pos: 0.0, \n",
      "Speaker 1: \n",
      "Yeah I'm not sure it's a good question I would hope not.\n",
      "compound: 0.1857, neg: 0.25, neu: 0.458, pos: 0.292, \n",
      "Speaker 0: \n",
      "Yeah.\n",
      "compound: 0.296, neg: 0.0, neu: 0.476, pos: 0.524, \n",
      "Speaker 0: \n",
      "I thought something on link down because I couldn't find my article on the.\n",
      "compound: 0.0, neg: 0.0, neu: 1.0, pos: 0.0, \n",
      "Speaker 0: \n",
      "I do it right.\n",
      "compound: 0.0, neg: 0.0, neu: 1.0, pos: 0.0, \n",
      "Speaker 0: \n",
      "And then I thought something from corrie Meyer.\n",
      "compound: 0.0, neg: 0.0, neu: 1.0, pos: 0.0, \n",
      "Speaker 1: \n",
      "Yeah.\n",
      "compound: 0.296, neg: 0.0, neu: 0.476, pos: 0.524, \n",
      "Speaker 0: \n",
      "He did you see that post.\n",
      "compound: 0.0, neg: 0.0, neu: 1.0, pos: 0.0, \n",
      "Speaker 1: \n",
      "I did not.\n",
      "compound: 0.0, neg: 0.0, neu: 1.0, pos: 0.0, \n",
      "Speaker 0: \n",
      "You put in there like I just had to find emergency something or other this is really like coming to the event like this is really weird like I ever thought I have to do that like right.\n",
      "compound: 0.785, neg: 0.098, neu: 0.637, pos: 0.265, \n",
      "Speaker 0: \n",
      "One is weird flooding right now.\n",
      "compound: -0.1779, neg: 0.195, neu: 0.805, pos: 0.0, \n",
      "Speaker 1: \n",
      "Yeah it's super strange.\n",
      "compound: 0.6486, neg: 0.165, neu: 0.275, pos: 0.56, \n",
      "Speaker 0: \n",
      "Really strange.\n",
      "compound: -0.2716, neg: 0.411, neu: 0.589, pos: 0.0, \n",
      "Speaker 1: \n",
      "Yeah.\n",
      "compound: 0.296, neg: 0.0, neu: 0.476, pos: 0.524, \n",
      "(Detecting speakers): \n",
      "Warlike mentality of like world like a world\n",
      "compound: 0.6124, neg: 0.0, neu: 0.583, pos: 0.417, \n"
     ]
    }
   ],
   "source": [
    "#Sentence level sentiment analysis\n",
    "for sentence in sentences:\n",
    "        print(sentence)\n",
    "        scores = sid.polarity_scores(sentence)\n",
    "        for key in sorted(scores):\n",
    "                print('{0}: {1}, '.format(key, scores[key]), end='')\n",
    "        print()"
   ]
  },
  {
   "cell_type": "code",
   "execution_count": null,
   "metadata": {},
   "outputs": [],
   "source": []
  }
 ],
 "metadata": {
  "kernelspec": {
   "display_name": "Python 3",
   "language": "python",
   "name": "python3"
  },
  "language_info": {
   "codemirror_mode": {
    "name": "ipython",
    "version": 3
   },
   "file_extension": ".py",
   "mimetype": "text/x-python",
   "name": "python",
   "nbconvert_exporter": "python",
   "pygments_lexer": "ipython3",
   "version": "3.7.4"
  }
 },
 "nbformat": 4,
 "nbformat_minor": 2
}
