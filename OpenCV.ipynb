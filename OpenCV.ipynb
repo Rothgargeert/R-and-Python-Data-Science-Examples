{
 "cells": [
  {
   "cell_type": "code",
   "execution_count": null,
   "metadata": {},
   "outputs": [],
   "source": [
    "import cv2\n",
    "import numpy as np \n",
    "\n",
    "cap = cv2.VideoCapture(0) #Package CV2 will capture video by default webcam using \"0\"\n",
    "\n",
    "while cap.isOpened(): #The code you have in the assignment did not work for me; the frames\n",
    "    #kept saying \"not responding\" so looked for a working one for my computer online and\n",
    "    #the one below works fine showing both color and gray framed images. \"While\"\n",
    "    #creates a loop for the variable \"cap\" below.\n",
    "    flags, frame = cap.read()\n",
    "    gray = cv2.cvtColor(frame, cv2.COLOR_BGR2GRAY)#\n",
    "    cv2.imshow('img', gray)#Shows the gray image and color image\n",
    "    cv2.imshow('frame', frame)#Shows the frame and \"frame\" name\n",
    "    key = cv2.waitKey(0) & 0xFF\n",
    "    if key == ord(\"q\"): #\"q\" breaks the loop and stops the image\n",
    "        break\n",
    "        \n",
    "cap.release() #Releases the camera\n",
    "cv2.destroyAllWindows() #Closes the images\n"
   ]
  },
  {
   "cell_type": "code",
   "execution_count": null,
   "metadata": {},
   "outputs": [],
   "source": [
    "import keras\n",
    "import tensorflow as tf \n",
    "new_model = tf.keras.models.load_model(\"C:\\Users\\rothg\\Desktop\\ANLY 535 Machine Learning II\\Lab 3\") \n",
    " "
   ]
  },
  {
   "cell_type": "code",
   "execution_count": null,
   "metadata": {},
   "outputs": [],
   "source": [
    "def get_img_contour_thresh(img):     \n",
    "    x, y, w, h = 0, 0, 300, 300     \n",
    "    gray = cv2.cvtColor(img, cv2.COLOR_BGR2GRAY)     \n",
    "    blur = cv2.GaussianBlur(gray, (35, 35), 0)     \n",
    "    ret, thresh1 = cv2.threshold(blur, 70, 255, cv2.THRESH_BINARY_INV + \n",
    "cv2.THRESH_OTSU)     \n",
    "    thresh1 = thresh1[y:y + h, x:x + w]     \n",
    "    contours, hierarchy = cv2.findContours(thresh1, cv2.RETR_TREE, \n",
    "cv2.CHAIN_APPROX_SIMPLE)[-2:]     \n",
    "    return img, contours, thresh1 "
   ]
  },
  {
   "cell_type": "code",
   "execution_count": null,
   "metadata": {},
   "outputs": [],
   "source": [
    "import keras\n",
    "import tensorflow as tf \n",
    "new_model = tf.keras.models.load_model(\"C:\\Users\\rothg\\Desktop\\ANLY 535 Machine Learning II\\Lab 3\") \n",
    "\n",
    "import numpy as np\n",
    "import cv2\n",
    "\n",
    "cap = cv2.VideoCapture(0) \n",
    "\n",
    "while (cap.isOpened()):     \n",
    "    ret, img = cap.read()     \n",
    "    ret     \n",
    "    img, contours, thresh = get_img_contour_thresh(img)     \n",
    "    ans1 = ''     \n",
    "    if len(contours) > 0:         \n",
    "        contour = max(contours, key=cv2.contourArea)         \n",
    "        if cv2.contourArea(contour) > 2500: \n",
    "            # print(predict(w_from_model,b_from_model,contour))             \n",
    "            x, y, w, h = cv2.boundingRect(contour) \n",
    "            # newImage = thresh[y - 15:y + h + 15, x - 15:x + w +15]             \n",
    "            newImage = thresh[y:y + h, x:x + w]             \n",
    "            newImage = cv2.resize(newImage, (28, 28))             \n",
    "            newImage = np.array(newImage)             \n",
    "            newImage = newImage.flatten()             \n",
    "            newImage = newImage.reshape(newImage.shape[0], 1)             \n",
    "            newImage2 = newImage.flatten().reshape(1,28,28,1)             \n",
    "            newImage2 = newImage2.astype('float32')             \n",
    "            newImage2 /= 255             \n",
    "            result = new_model.predict(newImage2)            \n",
    "            ans1= np.argmax(result) \n",
    "            #ans1 = Digit_Recognizer_LR.predict(w_LR, b_LR, newImage)\n",
    "            \n",
    "    x, y, w, h = 0, 0, 300, 300     \n",
    "    cv2.rectangle(img, (x, y), (x + w, y + h), (0, 255, 0), 2)     \n",
    "    cv2.putText(img, \"Prediction : \" + str(ans1), (10, 320), cv2.FONT_HERSHEY_SIMPLEX, 0.7, \n",
    "(0, 0, 255), 2) \n",
    " \n",
    "    cv2.imshow(\"Frame\", img)     \n",
    "    cv2.imshow(\"Contours\", thresh)     \n",
    "    k = cv2.waitKey(10)     \n",
    "    if k == 27:         \n",
    "        break \n",
    " \n",
    "cap.release()\n",
    "cv2.destroyAllWindows() "
   ]
  },
  {
   "cell_type": "code",
   "execution_count": null,
   "metadata": {},
   "outputs": [],
   "source": [
    "import cv2\n",
    "\n",
    "\n",
    "face_cascade = cv2.CascadeClassifier(\"haarcascade_frontalface_default.xml\")\n",
    "eye_cascade = cv2.CascadeClassifier(\"haarcascade_eye.xml\")\n",
    "\n",
    "cap = cv2.VideoCapture(0)\n",
    "\n",
    "while True:\n",
    "    ret, img = cap.read()\n",
    "    gray = cv2.cvtColor(img, cv2.COLOR_BGR2GRAY)\n",
    "    faces = face_cascade.detectMultiScale(gray, 1.3, 5)\n",
    "    \n",
    "    for (x,y,w,h) in faces:\n",
    "            cv2.rectangle(img,(x,y),(x+w,y+h),(255,0,0),2)\n",
    "            roi_gray = gray[y:y+h, x:x+w]\n",
    "            roi_color = img[y:y+h, x:x+w]\n",
    "            eyes = eye_cascade.detectMultiScale(roi_gray)\n",
    "            for (ex,ey,ew,eh) in eyes:\n",
    "                cv2.rectangle(roi_color,(ex,ey),(ex+ew,ey+eh),(0,255,0),2)\n",
    "    cv2.imshow('Lab 3 Face recognition',img)\n",
    "    k = cv2.waitKey(30) & 0xff\n",
    "    if k == 27:\n",
    "        break30\n",
    "\n",
    "cap.release() \n",
    "cv2.destroyAllWindows()   "
   ]
  },
  {
   "cell_type": "code",
   "execution_count": 39,
   "metadata": {},
   "outputs": [],
   "source": [
    "import numpy as np\n",
    "from tensorflow.keras.datasets import imdb\n",
    "from tensorflow.keras.models import Sequential\n",
    "from tensorflow.keras.layers import Dense\n",
    "from tensorflow.keras.layers import LSTM\n",
    "from tensorflow.keras.layers import Embedding\n",
    "from tensorflow.keras.preprocessing import sequence\n",
    "# fix random seed for reproducibility\n",
    "np.random.seed(7)"
   ]
  },
  {
   "cell_type": "code",
   "execution_count": 40,
   "metadata": {},
   "outputs": [],
   "source": [
    "# Just load 5000 cases \n",
    "\n",
    "top_words = 5000\n",
    "(X_train, y_train), (X_test, y_test) = imdb.load_data(num_words=top_words)"
   ]
  },
  {
   "cell_type": "code",
   "execution_count": 41,
   "metadata": {},
   "outputs": [],
   "source": [
    "# truncate and pad input sequences\n",
    "max_review_length = 500\n",
    "X_train = sequence.pad_sequences(X_train, maxlen=max_review_length)\n",
    "X_test = sequence.pad_sequences(X_test, maxlen=max_review_length)"
   ]
  },
  {
   "cell_type": "code",
   "execution_count": 42,
   "metadata": {},
   "outputs": [],
   "source": [
    "import tensorflow\n",
    "from tensorflow.keras.layers import Embedding"
   ]
  },
  {
   "cell_type": "code",
   "execution_count": 43,
   "metadata": {
    "scrolled": false
   },
   "outputs": [
    {
     "name": "stdout",
     "output_type": "stream",
     "text": [
      "Model: \"sequential_10\"\n",
      "_________________________________________________________________\n",
      "Layer (type)                 Output Shape              Param #   \n",
      "=================================================================\n",
      "embedding_10 (Embedding)     (None, 500, 32)           160000    \n",
      "_________________________________________________________________\n",
      "lstm_7 (LSTM)                (None, 100)               53200     \n",
      "_________________________________________________________________\n",
      "dense_4 (Dense)              (None, 1)                 101       \n",
      "=================================================================\n",
      "Total params: 213,301\n",
      "Trainable params: 213,301\n",
      "Non-trainable params: 0\n",
      "_________________________________________________________________\n",
      "None\n",
      "Train on 25000 samples, validate on 25000 samples\n",
      "Epoch 1/3\n",
      "25000/25000 [==============================] - 307s 12ms/sample - loss: 0.5085 - accuracy: 0.7440 - val_loss: 0.3909 - val_accuracy: 0.8306\n",
      "Epoch 2/3\n",
      "25000/25000 [==============================] - 304s 12ms/sample - loss: 0.3364 - accuracy: 0.8600 - val_loss: 0.3552 - val_accuracy: 0.8485\n",
      "Epoch 3/3\n",
      "25000/25000 [==============================] - 304s 12ms/sample - loss: 0.2731 - accuracy: 0.8936 - val_loss: 0.3433 - val_accuracy: 0.8604\n"
     ]
    }
   ],
   "source": [
    "# design model #Word embedding is the collective name for a set of language modeling and feature learning techniques \n",
    "#in natural language processing (NLP) where words or phrases from the vocabulary are mapped to vectors of real numbers\n",
    "embedding_vecor_length = 32\n",
    "model = Sequential()\n",
    "model.add(Embedding(top_words, embedding_vecor_length, input_length=max_review_length))\n",
    "model.add(LSTM(100))\n",
    "model.add(Dense(1, activation='sigmoid'))\n",
    "model.compile(loss='binary_crossentropy', optimizer='adam', metrics=['accuracy'])\n",
    "print(model.summary())\n",
    "hist= model.fit(X_train, y_train, validation_data=(X_test, y_test), epochs=3, batch_size=64)"
   ]
  },
  {
   "cell_type": "code",
   "execution_count": 45,
   "metadata": {},
   "outputs": [
    {
     "name": "stdout",
     "output_type": "stream",
     "text": [
      "Accuracy: 86.04%\n"
     ]
    }
   ],
   "source": [
    "# Final evaluation of the model\n",
    "scores = model.evaluate(X_test, y_test, verbose=0)\n",
    "print(\"Accuracy: %.2f%%\" % (scores[1]*100))"
   ]
  },
  {
   "cell_type": "code",
   "execution_count": 46,
   "metadata": {
    "scrolled": true
   },
   "outputs": [
    {
     "data": {
      "image/png": "[encoded data removed]",
      "text/plain": [
       "<Figure size 432x288 with 2 Axes>"
      ]
     },
     "metadata": {},
     "output_type": "display_data"
    }
   ],
   "source": [
    "plt.subplot(2,1,1) \n",
    "plt.plot(hist.history['accuracy']) \n",
    "plt.plot(hist.history['val_accuracy']) \n",
    "plt.title('model accuracy') \n",
    "plt.ylabel('accuracy') \n",
    "plt.xlabel('epoch') \n",
    "plt.legend(['train', 'test'], loc='lower right') \n",
    " \n",
    "plt.subplot(2,1,2) \n",
    "plt.plot(hist.history['loss']) \n",
    "plt.plot(hist.history['val_loss']) \n",
    "plt.title('model loss') \n",
    "plt.ylabel('loss') \n",
    "plt.xlabel('epoch') \n",
    "plt.legend(['train', 'test'], loc='upper right') \n",
    " \n",
    "plt.show()"
   ]
  },
  {
   "cell_type": "code",
   "execution_count": 48,
   "metadata": {},
   "outputs": [
    {
     "name": "stdout",
     "output_type": "stream",
     "text": [
      "Model: \"sequential_12\"\n",
      "_________________________________________________________________\n",
      "Layer (type)                 Output Shape              Param #   \n",
      "=================================================================\n",
      "embedding_12 (Embedding)     (None, 500, 32)           160000    \n",
      "_________________________________________________________________\n",
      "lstm_9 (LSTM)                (None, 100)               53200     \n",
      "_________________________________________________________________\n",
      "dense_6 (Dense)              (None, 1)                 101       \n",
      "_________________________________________________________________\n",
      "dropout_1 (Dropout)          (None, 1)                 0         \n",
      "=================================================================\n",
      "Total params: 213,301\n",
      "Trainable params: 213,301\n",
      "Non-trainable params: 0\n",
      "_________________________________________________________________\n",
      "None\n",
      "Train on 25000 samples, validate on 25000 samples\n",
      "Epoch 1/3\n",
      "25000/25000 [==============================] - 291s 12ms/sample - loss: 4.2158 - accuracy: 0.5622 - val_loss: 0.6101 - val_accuracy: 0.6455\n",
      "Epoch 2/3\n",
      "25000/25000 [==============================] - 293s 12ms/sample - loss: 4.1959 - accuracy: 0.5598 - val_loss: 0.7661 - val_accuracy: 0.5159\n",
      "Epoch 3/3\n",
      "25000/25000 [==============================] - 295s 12ms/sample - loss: 4.1816 - accuracy: 0.6112 - val_loss: 0.9439 - val_accuracy: 0.5074\n"
     ]
    }
   ],
   "source": [
    "from tensorflow.keras.layers import Dense, Dropout, Flatten \n",
    "embedding_vecor_length = 32\n",
    "model = Sequential()\n",
    "model.add(Embedding(top_words, embedding_vecor_length, input_length=max_review_length))\n",
    "model.add(LSTM(100))\n",
    "model.add(Dense(1, activation='sigmoid'))\n",
    "model.add(Dropout(0.5)) \n",
    "model.compile(loss='binary_crossentropy', optimizer='adam', metrics=['accuracy'])\n",
    "print(model.summary())\n",
    "hist= model.fit(X_train, y_train, validation_data=(X_test, y_test), epochs=3, batch_size=64)"
   ]
  },
  {
   "cell_type": "code",
   "execution_count": 50,
   "metadata": {},
   "outputs": [
    {
     "name": "stdout",
     "output_type": "stream",
     "text": [
      "Model: \"sequential_13\"\n",
      "_________________________________________________________________\n",
      "Layer (type)                 Output Shape              Param #   \n",
      "=================================================================\n",
      "embedding_13 (Embedding)     (None, 500, 32)           160000    \n",
      "_________________________________________________________________\n",
      "conv1d (Conv1D)              (None, 500, 32)           3104      \n",
      "_________________________________________________________________\n",
      "max_pooling1d (MaxPooling1D) (None, 250, 32)           0         \n",
      "_________________________________________________________________\n",
      "lstm_10 (LSTM)               (None, 100)               53200     \n",
      "_________________________________________________________________\n",
      "dense_7 (Dense)              (None, 1)                 101       \n",
      "=================================================================\n",
      "Total params: 216,405\n",
      "Trainable params: 216,405\n",
      "Non-trainable params: 0\n",
      "_________________________________________________________________\n",
      "None\n",
      "Train on 25000 samples\n",
      "Epoch 1/3\n",
      "25000/25000 [==============================] - 102s 4ms/sample - loss: 0.4096 - accuracy: 0.8075\n",
      "Epoch 2/3\n",
      "25000/25000 [==============================] - 102s 4ms/sample - loss: 0.2444 - accuracy: 0.9049\n",
      "Epoch 3/3\n",
      "25000/25000 [==============================] - 102s 4ms/sample - loss: 0.2059 - accuracy: 0.9229\n",
      "Accuracy: 86.87%\n"
     ]
    }
   ],
   "source": [
    "import numpy\n",
    "from tensorflow.keras.layers import Conv1D, MaxPooling1D\n",
    "# fix random seed for reproducibility\n",
    "numpy.random.seed(7)\n",
    "# load the dataset but only keep the top n words, zero the rest\n",
    "top_words = 5000\n",
    "(X_train, y_train), (X_test, y_test) = imdb.load_data(num_words=top_words)\n",
    "# truncate and pad input sequences\n",
    "max_review_length = 500\n",
    "X_train = sequence.pad_sequences(X_train, maxlen=max_review_length)\n",
    "X_test = sequence.pad_sequences(X_test, maxlen=max_review_length)\n",
    "# create the model\n",
    "embedding_vecor_length = 32\n",
    "model = Sequential()\n",
    "model.add(Embedding(top_words, embedding_vecor_length, input_length=max_review_length))\n",
    "model.add(Conv1D(filters=32, kernel_size=3, padding='same', activation='relu'))\n",
    "model.add(MaxPooling1D(pool_size=2))\n",
    "model.add(LSTM(100))\n",
    "model.add(Dense(1, activation='sigmoid'))\n",
    "model.compile(loss='binary_crossentropy', optimizer='adam', metrics=['accuracy'])\n",
    "print(model.summary())\n",
    "model.fit(X_train, y_train, epochs=3, batch_size=64)\n",
    "# Final evaluation of the model\n",
    "scores = model.evaluate(X_test, y_test, verbose=0)\n",
    "print(\"Accuracy: %.2f%%\" % (scores[1]*100))"
   ]
  },
  {
   "cell_type": "code",
   "execution_count": null,
   "metadata": {},
   "outputs": [],
   "source": []
  }
 ],
 "metadata": {
  "kernelspec": {
   "display_name": "Python 3",
   "language": "python",
   "name": "python3"
  },
  "language_info": {
   "codemirror_mode": {
    "name": "ipython",
    "version": 3
   },
   "file_extension": ".py",
   "mimetype": "text/x-python",
   "name": "python",
   "nbconvert_exporter": "python",
   "pygments_lexer": "ipython3",
   "version": "3.7.4"
  }
 },
 "nbformat": 4,
 "nbformat_minor": 2
}
