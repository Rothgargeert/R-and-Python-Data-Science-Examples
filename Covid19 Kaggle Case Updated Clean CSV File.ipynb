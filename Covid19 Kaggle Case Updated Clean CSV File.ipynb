{
 "cells": [
  {
   "cell_type": "code",
   "execution_count": 2,
   "metadata": {},
   "outputs": [],
   "source": [
    "import os\n",
    "import json\n",
    "from pprint import pprint\n",
    "from copy import deepcopy\n",
    "\n",
    "import numpy as np\n",
    "import pandas as pd\n",
    "from tqdm.notebook import tqdm\n",
    "\n",
    "\n"
   ]
  },
  {
   "cell_type": "code",
   "execution_count": 3,
   "metadata": {},
   "outputs": [],
   "source": [
    "def format_name(author):\n",
    "    middle_name = \" \".join(author['middle'])\n",
    "    \n",
    "    if author['middle']:\n",
    "        return \" \".join([author['first'], middle_name, author['last']])\n",
    "    else:\n",
    "        return \" \".join([author['first'], author['last']])\n",
    "\n",
    "\n",
    "def format_affiliation(affiliation):\n",
    "    text = []\n",
    "    location = affiliation.get('location')\n",
    "    if location:\n",
    "        text.extend(list(affiliation['location'].values()))\n",
    "    \n",
    "    institution = affiliation.get('institution')\n",
    "    if institution:\n",
    "        text = [institution] + text\n",
    "    return \", \".join(text)\n",
    "\n",
    "def format_authors(authors, with_affiliation=False):\n",
    "    name_ls = []\n",
    "    \n",
    "    for author in authors:\n",
    "        name = format_name(author)\n",
    "        if with_affiliation:\n",
    "            affiliation = format_affiliation(author['affiliation'])\n",
    "            if affiliation:\n",
    "                name_ls.append(f\"{name} ({affiliation})\")\n",
    "            else:\n",
    "                name_ls.append(name)\n",
    "        else:\n",
    "            name_ls.append(name)\n",
    "    \n",
    "    return \", \".join(name_ls)\n",
    "\n",
    "def format_body(body_text):\n",
    "    texts = [(di['section'], di['text']) for di in body_text]\n",
    "    texts_di = {di['section']: \"\" for di in body_text}\n",
    "    \n",
    "    for section, text in texts:\n",
    "        texts_di[section] += text\n",
    "\n",
    "    body = \"\"\n",
    "\n",
    "    for section, text in texts_di.items():\n",
    "        body += section\n",
    "        body += \"\\n\\n\"\n",
    "        body += text\n",
    "        body += \"\\n\\n\"\n",
    "    \n",
    "    return body\n",
    "\n",
    "def format_bib(bibs):\n",
    "    if type(bibs) == dict:\n",
    "        bibs = list(bibs.values())\n",
    "    bibs = deepcopy(bibs)\n",
    "    formatted = []\n",
    "    \n",
    "    for bib in bibs:\n",
    "        bib['authors'] = format_authors(\n",
    "            bib['authors'], \n",
    "            with_affiliation=False\n",
    "        )\n",
    "        formatted_ls = [str(bib[k]) for k in ['title', 'authors', 'venue', 'year']]\n",
    "        formatted.append(\", \".join(formatted_ls))\n",
    "\n",
    "    return \"; \".join(formatted)"
   ]
  },
  {
   "cell_type": "code",
   "execution_count": 4,
   "metadata": {},
   "outputs": [],
   "source": [
    "def load_files(dirname):\n",
    "    filenames = os.listdir(dirname)\n",
    "    raw_files = []\n",
    "\n",
    "    for filename in tqdm(filenames):\n",
    "        filename = dirname + filename\n",
    "        file = json.load(open(filename, 'rb'))\n",
    "        raw_files.append(file)\n",
    "    \n",
    "    return raw_files\n",
    "\n",
    "def generate_clean_df(all_files):\n",
    "    cleaned_files = []\n",
    "    \n",
    "    for file in tqdm(all_files):\n",
    "        features = [\n",
    "            file['paper_id'],\n",
    "            file['metadata']['title'],\n",
    "            format_authors(file['metadata']['authors']),\n",
    "            format_authors(file['metadata']['authors'], \n",
    "                           with_affiliation=True),\n",
    "            format_body(file['abstract']),\n",
    "            format_body(file['body_text']),\n",
    "            format_bib(file['bib_entries']),\n",
    "            file['metadata']['authors'],\n",
    "            file['bib_entries']\n",
    "        ]\n",
    "\n",
    "        cleaned_files.append(features)\n",
    "\n",
    "    col_names = ['paper_id', 'title', 'authors',\n",
    "                 'affiliations', 'abstract', 'text', \n",
    "                 'bibliography','raw_authors','raw_bibliography']\n",
    "\n",
    "    clean_df = pd.DataFrame(cleaned_files, columns=col_names)\n",
    "    clean_df.head()\n",
    "    \n",
    "    return clean_df"
   ]
  },
  {
   "cell_type": "code",
   "execution_count": 7,
   "metadata": {
    "scrolled": true
   },
   "outputs": [
    {
     "name": "stdout",
     "output_type": "stream",
     "text": [
      "Number of articles retrieved from biorxiv: 803\n"
     ]
    }
   ],
   "source": [
    "biorxiv_dir = '/Covid 19 Kaggle Challenge/biorxiv_medrxiv/biorxiv_medrxiv/'\n",
    "filenames = os.listdir(biorxiv_dir)\n",
    "print(\"Number of articles retrieved from biorxiv:\", len(filenames))"
   ]
  },
  {
   "cell_type": "code",
   "execution_count": 8,
   "metadata": {},
   "outputs": [],
   "source": [
    "all_files = []\n",
    "\n",
    "for filename in filenames:\n",
    "    filename = biorxiv_dir + filename\n",
    "    file = json.load(open(filename, 'rb'))\n",
    "    all_files.append(file)"
   ]
  },
  {
   "cell_type": "code",
   "execution_count": 9,
   "metadata": {},
   "outputs": [
    {
     "name": "stdout",
     "output_type": "stream",
     "text": [
      "Dictionary keys: dict_keys(['paper_id', 'metadata', 'abstract', 'body_text', 'bib_entries', 'ref_entries', 'back_matter'])\n"
     ]
    }
   ],
   "source": [
    "file = all_files[0]\n",
    "print(\"Dictionary keys:\", file.keys())"
   ]
  },
  {
   "cell_type": "code",
   "execution_count": 10,
   "metadata": {},
   "outputs": [
    {
     "name": "stdout",
     "output_type": "stream",
     "text": [
      "[{'cite_spans': [],\n",
      "  'ref_spans': [],\n",
      "  'section': 'Abstract',\n",
      "  'text': 'word count: 194 22 Text word count: 5168 23 24 25 author/funder. '\n",
      "          'All rights reserved. No reuse allowed without permission. Abstract '\n",
      "          '27 The positive stranded RNA genomes of picornaviruses comprise a '\n",
      "          'single large open reading 28 frame flanked by 5′ and 3′ '\n",
      "          'untranslated regions (UTRs). Foot-and-mouth disease virus (FMDV) 29 '\n",
      "          'has an unusually large 5′ UTR (1.3 kb) containing five structural '\n",
      "          'domains. These include the 30 internal ribosome entry site (IRES), '\n",
      "          'which facilitates initiation of translation, and the cis-acting 31 '\n",
      "          'replication element (cre). Less well characterised structures are a '\n",
      "          '5′ terminal 360 nucleotide 32 stem-loop, a variable length '\n",
      "          'poly-C-tract of approximately 100-200 nucleotides and a series of '\n",
      "          '33 two to four tandemly repeated pseudoknots (PKs). We investigated '\n",
      "          'the structures of the PKs 34 by selective 2′ hydroxyl acetylation '\n",
      "          'analysed by primer extension (SHAPE) analysis and 35 determined '\n",
      "          'their contribution to genome replication by mutation and deletion '\n",
      "          'experiments. 36 SHAPE and mutation experiments confirmed the '\n",
      "          'importance of the previously predicted PK 37 structures for their '\n",
      "          'function. Deletion experiments showed that although PKs are not '\n",
      "          'essential 38'},\n",
      " {'cite_spans': [],\n",
      "  'ref_spans': [],\n",
      "  'section': 'Abstract',\n",
      "  'text': 'for replication, they provide genomes with a competitive advantage. '\n",
      "          'However, although 39 replicons and full-length genomes lacking all '\n",
      "          'PKs were replication competent, no infectious 40 virus was rescued '\n",
      "          'from genomes containing less than one PK copy. This is consistent '\n",
      "          'with our 41 earlier report describing the presence of putative '\n",
      "          'packaging signals in the PK region. 42 43 author/funder. All rights '\n",
      "          'reserved. No reuse allowed without permission.'}]\n"
     ]
    }
   ],
   "source": [
    "pprint(file['abstract'])"
   ]
  },
  {
   "cell_type": "code",
   "execution_count": 11,
   "metadata": {},
   "outputs": [
    {
     "name": "stdout",
     "output_type": "stream",
     "text": [
      "body_text type: <class 'list'>\n",
      "body_text length: 20\n",
      "body_text keys: dict_keys(['text', 'cite_spans', 'ref_spans', 'section'])\n"
     ]
    }
   ],
   "source": [
    "print(\"body_text type:\", type(file['body_text']))\n",
    "print(\"body_text length:\", len(file['body_text']))\n",
    "print(\"body_text keys:\", file['body_text'][0].keys())"
   ]
  },
  {
   "cell_type": "code",
   "execution_count": 12,
   "metadata": {
    "scrolled": false
   },
   "outputs": [
    {
     "name": "stdout",
     "output_type": "stream",
     "text": [
      "body_text content:\n",
      "[{'cite_spans': [],\n",
      "  'ref_spans': [{...}],\n",
      "  'section': '',\n",
      "  'text': 'VP3, and VP0 (which is further processed to VP2 and VP4 during '\n",
      "          'virus assembly) (6). The P2 64 and P3 regions encode the '\n",
      "          'non-structural proteins 2B and 2C and 3A, 3B (1-3) (VPg), 3C pro '\n",
      "          'and 4 structural protein-coding region is replaced by reporter '\n",
      "          'genes, allow the study of genome 68 replication without the '\n",
      "          'requirement for high containment (9, 10) ( figure 1A ).'},\n",
      " {'cite_spans': [{...}, {...}, {...}, {...}, {...}, {...}],\n",
      "  'ref_spans': [],\n",
      "  'section': '70',\n",
      "  'text': 'The FMDV 5′ UTR is the largest known picornavirus UTR, comprising '\n",
      "          'approximately 1300 71 nucleotides and containing several highly '\n",
      "          'structured regions. The first 360 nucleotides at the 5′ 72 end are '\n",
      "          'predicted to fold into a single large stem loop termed the '\n",
      "          'S-fragment, followed by a The PKs were originally predicted in 1987 '\n",
      "          'and consist of two to four tandem repeats of a ~48 86 nucleotide '\n",
      "          'region containing a small stem loop and downstream interaction site '\n",
      "          '(figure 1B) 87 (12). Due to the sequence similarity between the PKs '\n",
      "          '(figure 1C), it is speculated that they 88 were formed by '\n",
      "          'duplication events during viral replication, probably involving '\n",
      "          'recombination. 89 Between two and four PKs are present in different '\n",
      "          'virus isolates but no strain has been 90 identified with less than '\n",
      "          'two PKs, emphasising their potential importance in the viral life '\n",
      "          'cycle 91 (19, 20) . The presence of PKs has been reported in the 5′ '\n",
      "          'UTR of other picornaviruses such as 92 author/funder. All rights '\n",
      "          'reserved. No reuse allowed without permission. can occur in the '\n",
      "          'absence of PKs at least one is required for wild-type (wt) '\n",
      "          'replication. 104 Furthermore, competition experiments showed that '\n",
      "          'extra copies of PKs conferred a replicative 105 advantage to '\n",
      "          'genomes. Although replicons and full-length genomes lacking PKs '\n",
      "          'were 106 replication-competent, no infectious virus was rescued '\n",
      "          'from genomes containing less than one 107 PK copy. This is '\n",
      "          'consistent with our earlier report describing the presence of '\n",
      "          'putative 108 packaging signals in the PK region (22). 109 110 '\n",
      "          'author/funder. All rights reserved. No reuse allowed without '\n",
      "          'permission. Plasmid construction. 117 The FMDV replicon plasmids, '\n",
      "          'pRep-ptGFP, and the replication-defective polymerase mutant 118 '\n",
      "          'control, 3D-GNN, have already been described (10).'}]\n"
     ]
    }
   ],
   "source": [
    "print(\"body_text content:\")\n",
    "pprint(file['body_text'][:2], depth=3)"
   ]
  },
  {
   "cell_type": "code",
   "execution_count": 13,
   "metadata": {},
   "outputs": [
    {
     "name": "stdout",
     "output_type": "stream",
     "text": [
      "['',\n",
      " '70',\n",
      " '120',\n",
      " '135',\n",
      " '136',\n",
      " '144',\n",
      " '301',\n",
      " 'Function of the PKs in replication is dependent on downstream interactions '\n",
      " 'and 350',\n",
      " '368',\n",
      " '468',\n",
      " '479']\n"
     ]
    }
   ],
   "source": [
    "texts = [(di['section'], di['text']) for di in file['body_text']]\n",
    "texts_di = {di['section']: \"\" for di in file['body_text']}\n",
    "for section, text in texts:\n",
    "    texts_di[section] += text\n",
    "\n",
    "pprint(list(texts_di.keys()))"
   ]
  },
  {
   "cell_type": "code",
   "execution_count": 14,
   "metadata": {},
   "outputs": [
    {
     "name": "stdout",
     "output_type": "stream",
     "text": [
      "\n",
      "\n",
      "VP3, and VP0 (which is further processed to VP2 and VP4 during virus assembly) (6). The P2 64 and P3 regions encode the non-structural proteins 2B and 2C and 3A, 3B (1-3) (VPg), 3C pro and 4 structural protein-coding region is replaced by reporter genes, allow the study of genome 68 replication without the requirement for high containment (9, 10) ( figure 1A ).\n",
      "\n",
      "70\n",
      "\n",
      "The FMDV 5′ UTR is the largest known picornavirus UTR, comprising approximately 1300 71 nucleotides and containing several highly structured regions. The first 360 nucleotides at the 5′ 72 end are predicted to fold into a single large stem loop termed the S-fragment, followed by a The PKs were originally predicted in 1987 and consist of two to four tandem repeats of a ~48 86 nucleotide region containing a small stem loop and downstream interaction site (figure 1B) 87 (12). Due to the sequence similarity between the PKs (figure 1C), it is speculated that they 88 were formed by duplication events during viral replication, probably involving recombination. 89 Between two and four PKs are present in different virus isolates but no strain has been 90 identified with less than two PKs, emphasising their potential importance in the viral life cycle 91 (19, 20) . The presence of PKs has been reported in the 5′ UTR of other picornaviruses such as 92 author/funder. All rights reserved. No reuse allowed without permission. can occur in the absence of PKs at least one is required for wild-type (wt) replication. 104 Furthermore, competition experiments showed that extra copies of PKs conferred a replicative 105 advantage to genomes. Although replicons and full-length genomes lacking PKs were 106 replication-competent, no infectious virus was rescued from genomes containing less than one 107 PK copy. This is consistent with our earlier report describing the presence of putative 108 packaging signals in the PK region (22). 109 110 author/funder. All rights reserved. No reuse allowed without permission. Plasmid construction. 117 The FMDV replicon plasmids, pRep-ptGFP, and the replication-defective polymerase mutant 118 control, 3D-GNN, have already been described (10).\n",
      "\n",
      "120\n",
      "\n",
      "To introduce mutations into the PK region, the pRep-ptGFP replicon plasmid was digested 121 with SpeI and KpnI and the resulting fragment inserted into a sub-cloning vector (pBluescript) 122 to create the pBluescript PK. PKs 3 and 4 were removed by digestion with HindIII and AatII 123 before insertion of a synthetic DNA sequence with PK 3 and 4 deleted. PKs 2, 3 and 4 were 124 deleted by PCR amplification using ΔPK 234 Forward primer and FMDV 1331-1311 reverse 125 primer, the resultant product was digested with HindIII and AatII and ligated into the 126 pBluescript PK vector. Complete PK deletion was achieved by introduction of an AflII site at 127 the 3′ end of the poly-C tract by PCR mutagenesis to create the sub-cloning vector, pBluescript 128 C11, which was then used to remove all the PKs by PCR mutagenesis using ΔPK 1234 f\n"
     ]
    }
   ],
   "source": [
    "body = \"\"\n",
    "\n",
    "for section, text in texts_di.items():\n",
    "    body += section\n",
    "    body += \"\\n\\n\"\n",
    "    body += text\n",
    "    body += \"\\n\\n\"\n",
    "\n",
    "print(body[:3000])"
   ]
  },
  {
   "cell_type": "code",
   "execution_count": 15,
   "metadata": {},
   "outputs": [
    {
     "name": "stdout",
     "output_type": "stream",
     "text": [
      "\n",
      "\n",
      "VP3, and VP0 (which is further processed to VP2 and VP4 during virus assembly) (6). The P2 64 and P3 regions encode the non-structural proteins 2B and 2C and 3A, 3B (1-3) (VPg), 3C pro and 4 structural protein-coding region is replaced by reporter genes, allow the study of genome 68 replication without the requirement for high containment (9, 10) ( figure 1A ).\n",
      "\n",
      "70\n",
      "\n",
      "The FMDV 5′ UTR is the largest known picornavirus UTR, comprising approximately 1300 71 nucleotides and containing several highly structured regions. The first 360 nucleotides at the 5′ 72 end are predicted to fold into a single large stem loop termed the S-fragment, followed by a The PKs were originally predicted in 1987 and consist of two to four tandem repeats of a ~48 86 nucleotide region containing a small stem loop and downstream interaction site (figure 1B) 87 (12). Due to the sequence similarity between the PKs (figure 1C), it is speculated that they 88 were formed by duplication events during viral replication, probably involving recombination. 89 Between two and four PKs are present in different virus isolates but no strain has been 90 identified with less than two PKs, emphasising their potential importance in the viral life cycle 91 (19, 20) . The presence of PKs has been reported in the 5′ UTR of other picornaviruses such as 92 author/funder. All rights reserved. No reuse allowed without permission. can occur in the absence of PKs at least one is required for wild-type (wt) replication. 104 Furthermore, competition experiments showed that extra copies of PKs conferred a replicative 105 advantage to genomes. Although replicons and full-length genomes lacking PKs were 106 replication-competent, no infectious virus was rescued from genomes containing less than one 107 PK copy. This is consistent with our earlier report describing the presence of putative 108 packaging signals in the PK region (22). 109 110 author/funder. All rights reserved. No reuse allowed without permission. Plasmid construction. 117 The FMDV replicon plasmids, pRep-ptGFP, and the replication-defective polymerase mutant 118 control, 3D-GNN, have already been described (10).\n",
      "\n",
      "120\n",
      "\n",
      "To introduce mutations into the PK region, the pRep-ptGFP replicon plasmid was digested 121 with SpeI and KpnI and the resulting fragment inserted into a sub-cloning vector (pBluescript) 122 to create the pBluescript PK. PKs 3 and 4 were removed by digestion with HindIII and AatII 123 before insertion of a synthetic DNA sequence with PK 3 and 4 deleted. PKs 2, 3 and 4 were 124 deleted by PCR amplification using ΔPK 234 Forward primer and FMDV 1331-1311 reverse 125 primer, the resultant product was digested with HindIII and AatII and ligated into the 126 pBluescript PK vector. Complete PK deletion was achieved by introduction of an AflII site at 127 the 3′ end of the poly-C tract by PCR mutagenesis to create the sub-cloning vector, pBluescript 128 C11, which was then used to remove all the PKs by PCR mutagenesis using ΔPK 1234 f\n"
     ]
    }
   ],
   "source": [
    "print(format_body(file['body_text'])[:3000])"
   ]
  },
  {
   "cell_type": "code",
   "execution_count": 16,
   "metadata": {},
   "outputs": [
    {
     "name": "stdout",
     "output_type": "stream",
     "text": [
      "dict_keys(['title', 'authors'])\n"
     ]
    }
   ],
   "source": [
    "print(all_files[0]['metadata'].keys())"
   ]
  },
  {
   "cell_type": "code",
   "execution_count": 17,
   "metadata": {},
   "outputs": [
    {
     "name": "stdout",
     "output_type": "stream",
     "text": [
      "The RNA pseudoknots in foot-and-mouth disease virus are dispensable for genome replication but essential for the production of infectious virus. 2 3\n"
     ]
    }
   ],
   "source": [
    "print(all_files[0]['metadata']['title'])"
   ]
  },
  {
   "cell_type": "code",
   "execution_count": 18,
   "metadata": {},
   "outputs": [
    {
     "name": "stdout",
     "output_type": "stream",
     "text": [
      "[{'affiliation': {},\n",
      "  'email': '',\n",
      "  'first': 'Joseph',\n",
      "  'last': 'Ward',\n",
      "  'middle': ['C'],\n",
      "  'suffix': ''},\n",
      " {'affiliation': {},\n",
      "  'email': '',\n",
      "  'first': 'Lidia',\n",
      "  'last': 'Lasecka-Dykes',\n",
      "  'middle': [],\n",
      "  'suffix': ''},\n",
      " {'affiliation': {},\n",
      "  'email': '',\n",
      "  'first': 'Chris',\n",
      "  'last': 'Neil',\n",
      "  'middle': [],\n",
      "  'suffix': ''}]\n"
     ]
    }
   ],
   "source": [
    "authors = all_files[0]['metadata']['authors']\n",
    "pprint(authors[:3])"
   ]
  },
  {
   "cell_type": "code",
   "execution_count": 19,
   "metadata": {},
   "outputs": [
    {
     "name": "stdout",
     "output_type": "stream",
     "text": [
      "Name: Joseph C Ward\n",
      "Affiliation: \n",
      "\n",
      "Name: Lidia Lasecka-Dykes\n",
      "Affiliation: \n",
      "\n",
      "Name: Chris Neil\n",
      "Affiliation: \n",
      "\n",
      "Name: Oluwapelumi Adeyemi\n",
      "Affiliation: \n",
      "\n",
      "Name: Sarah \n",
      "Affiliation: \n",
      "\n",
      "Name:  Gold\n",
      "Affiliation: \n",
      "\n",
      "Name: Niall Mclean\n",
      "Affiliation: \n",
      "\n",
      "Name: Caroline Wright\n",
      "Affiliation: \n",
      "\n",
      "Name: Morgan R Herod\n",
      "Affiliation: \n",
      "\n",
      "Name: David Kealy\n",
      "Affiliation: \n",
      "\n",
      "Name: Emma \n",
      "Affiliation: \n",
      "\n",
      "Name: Warner \n",
      "Affiliation: \n",
      "\n",
      "Name: Donald P King\n",
      "Affiliation: \n",
      "\n",
      "Name: Tobias J Tuthill\n",
      "Affiliation: \n",
      "\n",
      "Name: David J Rowlands\n",
      "Affiliation: \n",
      "\n",
      "Name: Nicola J \n",
      "Affiliation: \n",
      "\n",
      "Name: Stonehouse A#\n",
      "Affiliation: \n",
      "\n"
     ]
    }
   ],
   "source": [
    "for author in authors:\n",
    "    print(\"Name:\", format_name(author))\n",
    "    print(\"Affiliation:\", format_affiliation(author['affiliation']))\n",
    "    print()"
   ]
  },
  {
   "cell_type": "code",
   "execution_count": 20,
   "metadata": {},
   "outputs": [
    {
     "name": "stdout",
     "output_type": "stream",
     "text": [
      "{'authors': [{'affiliation': {'institution': 'Chinese Academy of Sciences',\n",
      "                              'laboratory': '',\n",
      "                              'location': {...}},\n",
      "              'email': '',\n",
      "              'first': 'Xiaoyang',\n",
      "              'last': 'Ji',\n",
      "              'middle': [],\n",
      "              'suffix': ''},\n",
      "             {'affiliation': {'institution': 'Chinese Academy of Sciences',\n",
      "                              'laboratory': '',\n",
      "                              'location': {...}},\n",
      "              'email': '',\n",
      "              'first': 'Chunming',\n",
      "              'last': 'Zhang',\n",
      "              'middle': [],\n",
      "              'suffix': ''},\n",
      "             {'affiliation': {'institution': 'Chinese Academy of Sciences',\n",
      "                              'laboratory': 'State Key Laboratory of Computer '\n",
      "                                            'Architecture',\n",
      "                              'location': {...}},\n",
      "              'email': '',\n",
      "              'first': 'Yubo',\n",
      "              'last': 'Zhai',\n",
      "              'middle': [],\n",
      "              'suffix': ''},\n",
      "             {'affiliation': {},\n",
      "              'email': '',\n",
      "              'first': 'Zhonghai',\n",
      "              'last': 'Zhang',\n",
      "              'middle': [],\n",
      "              'suffix': ''},\n",
      "             {'affiliation': {'institution': 'Phil Rivers Technology',\n",
      "                              'laboratory': '',\n",
      "                              'location': {...}},\n",
      "              'email': '',\n",
      "              'first': 'Chunli',\n",
      "              'last': 'Zhang',\n",
      "              'middle': [],\n",
      "              'suffix': ''},\n",
      "             {'affiliation': {'institution': 'Chinese Academy of Sciences',\n",
      "                              'laboratory': '',\n",
      "                              'location': {...}},\n",
      "              'email': '',\n",
      "              'first': 'Yiqing',\n",
      "              'last': 'Xue',\n",
      "              'middle': [],\n",
      "              'suffix': ''},\n",
      "             {'affiliation': {'institution': 'Chinese Academy of Sciences',\n",
      "                              'laboratory': 'State Key Laboratory of Computer '\n",
      "                                            'Architecture',\n",
      "                              'location': {...}},\n",
      "              'email': '',\n",
      "              'first': 'Guangming',\n",
      "              'last': 'Tan',\n",
      "              'middle': [],\n",
      "              'suffix': ''},\n",
      "             {'affiliation': {'institution': 'Chinese Academy of Sciences',\n",
      "                              'laboratory': '',\n",
      "                              'location': {...}},\n",
      "              'email': 'g.niu@philrivers.com',\n",
      "              'first': 'Gang',\n",
      "              'last': 'Niu',\n",
      "              'middle': [],\n",
      "              'suffix': ''}],\n",
      " 'title': 'TWIRLS, an automated topic-wise inference method based on massive '\n",
      "          'literature, suggests a possible mechanism via ACE2 for the '\n",
      "          'pathological changes in the human host after coronavirus infection'}\n"
     ]
    }
   ],
   "source": [
    "pprint(all_files[4]['metadata'], depth=4)"
   ]
  },
  {
   "cell_type": "code",
   "execution_count": 21,
   "metadata": {},
   "outputs": [
    {
     "name": "stdout",
     "output_type": "stream",
     "text": [
      "Formatting without affiliation:\n",
      "Xiaoyang Ji, Chunming Zhang, Yubo Zhai, Zhonghai Zhang, Chunli Zhang, Yiqing Xue, Guangming Tan, Gang Niu\n",
      "\n",
      "Formatting with affiliation:\n",
      "Xiaoyang Ji (Chinese Academy of Sciences, Beijing, China), Chunming Zhang (Chinese Academy of Sciences, Beijing, China), Yubo Zhai (Chinese Academy of Sciences, Beijing, China), Zhonghai Zhang, Chunli Zhang (Phil Rivers Technology, Beijing, China), Yiqing Xue (Chinese Academy of Sciences, Beijing, China), Guangming Tan (Chinese Academy of Sciences, Beijing, China), Gang Niu (Chinese Academy of Sciences, Beijing, China)\n"
     ]
    }
   ],
   "source": [
    "authors = all_files[4]['metadata']['authors']\n",
    "print(\"Formatting without affiliation:\")\n",
    "print(format_authors(authors, with_affiliation=False))\n",
    "print(\"\\nFormatting with affiliation:\")\n",
    "print(format_authors(authors, with_affiliation=True))"
   ]
  },
  {
   "cell_type": "code",
   "execution_count": 22,
   "metadata": {},
   "outputs": [
    {
     "name": "stdout",
     "output_type": "stream",
     "text": [
      "[{'authors': [{'first': 'T', 'last': 'Jackson', 'middle': [], 'suffix': ''},\n",
      "              {'first': 'T', 'last': 'Tuthill', 'middle': [...], 'suffix': ''},\n",
      "              {'first': 'D', 'last': 'Rowlands', 'middle': [...], 'suffix': ''},\n",
      "              {'first': 'N',\n",
      "               'last': 'Stonehouse',\n",
      "               'middle': [...],\n",
      "               'suffix': ''}],\n",
      "  'issn': '',\n",
      "  'other_ids': {},\n",
      "  'pages': '',\n",
      "  'ref_id': 'b0',\n",
      "  'title': 'Genetic economy in 598 picornaviruses: Foot-and-mouth disease '\n",
      "           'virus replication exploits alternative precursor 599 cleavage '\n",
      "           'pathways',\n",
      "  'venue': 'PLOS Pathog',\n",
      "  'volume': '13',\n",
      "  'year': 2017},\n",
      " {'authors': [{'first': 'N',\n",
      "               'last': 'Sanderson',\n",
      "               'middle': [...],\n",
      "               'suffix': ''},\n",
      "              {'first': 'N', 'last': 'Knowles', 'middle': [...], 'suffix': ''},\n",
      "              {'first': 'D', 'last': 'King', 'middle': [...], 'suffix': ''},\n",
      "              {'first': 'E', 'last': 'Cottam', 'middle': [...], 'suffix': ''}],\n",
      "  'issn': '',\n",
      "  'other_ids': {},\n",
      "  'pages': '',\n",
      "  'ref_id': 'b2',\n",
      "  'title': 'A universal protocol to 602 generate consensus level genome '\n",
      "           'sequences for foot-and-mouth disease virus and other 603 '\n",
      "           'positive-sense polyadenylated RNA viruses using the Illumina MiSeq',\n",
      "  'venue': 'BMC Genomics',\n",
      "  'volume': '604',\n",
      "  'year': 2014}]\n"
     ]
    }
   ],
   "source": [
    "bibs = list(file['bib_entries'].values())\n",
    "pprint(bibs[:2], depth=4)"
   ]
  },
  {
   "cell_type": "code",
   "execution_count": 23,
   "metadata": {},
   "outputs": [
    {
     "data": {
      "text/plain": [
       "'N D Sanderson, N J Knowles, D P King, E M Cottam'"
      ]
     },
     "execution_count": 23,
     "metadata": {},
     "output_type": "execute_result"
    }
   ],
   "source": [
    "format_authors(bibs[1]['authors'], with_affiliation=False)"
   ]
  },
  {
   "cell_type": "code",
   "execution_count": 24,
   "metadata": {},
   "outputs": [
    {
     "name": "stdout",
     "output_type": "stream",
     "text": [
      "Genetic economy in 598 picornaviruses: Foot-and-mouth disease virus replication exploits alternative precursor 599 cleavage pathways, T Jackson, T J Tuthill, D J Rowlands, N J Stonehouse, PLOS Pathog, 2017; A universal protocol to 602 generate consensus level genome sequences for foot-and-mouth disease virus and other 603 positive-sense polyadenylated RNA viruses using the Illumina MiSeq, N D Sanderson, N J Knowles, D P King, E M Cottam, BMC Genomics, 2014; Library preparation for highly accurate population 606 sequencing of RNA viruses, A Acevedo, R Andino, Nat Protoc, 2014; IDBA-UD: a de novo assembler for 608 single-cell and metagenomic sequencing data with highly uneven depth, Y Peng, Hcm Leung, S M Yiu, Fyl Chin, , 2012; Basic local alignment 611 search tool, S F Altschul, W Gish, W Miller, E W Myers, D J Lipman, J Mol Biol, 1990\n"
     ]
    }
   ],
   "source": [
    "bib_formatted = format_bib(bibs[:5])\n",
    "print(bib_formatted)"
   ]
  },
  {
   "cell_type": "code",
   "execution_count": 25,
   "metadata": {},
   "outputs": [
    {
     "data": {
      "application/vnd.jupyter.widget-view+json": {
       "model_id": "1a76f359b688492785a302d614156696",
       "version_major": 2,
       "version_minor": 0
      },
      "text/plain": [
       "HBox(children=(IntProgress(value=0, max=803), HTML(value='')))"
      ]
     },
     "metadata": {},
     "output_type": "display_data"
    },
    {
     "name": "stdout",
     "output_type": "stream",
     "text": [
      "\n"
     ]
    }
   ],
   "source": [
    "cleaned_files = []\n",
    "\n",
    "for file in tqdm(all_files):\n",
    "    features = [\n",
    "        file['paper_id'],\n",
    "        file['metadata']['title'],\n",
    "        format_authors(file['metadata']['authors']),\n",
    "        format_authors(file['metadata']['authors'], \n",
    "                       with_affiliation=True),\n",
    "        format_body(file['abstract']),\n",
    "        format_body(file['body_text']),\n",
    "        format_bib(file['bib_entries']),\n",
    "        file['metadata']['authors'],\n",
    "        file['bib_entries']\n",
    "    ]\n",
    "    \n",
    "    cleaned_files.append(features)"
   ]
  },
  {
   "cell_type": "code",
   "execution_count": 26,
   "metadata": {},
   "outputs": [
    {
     "data": {
      "text/html": [
       "<div>\n",
       "<style scoped>\n",
       "    .dataframe tbody tr th:only-of-type {\n",
       "        vertical-align: middle;\n",
       "    }\n",
       "\n",
       "    .dataframe tbody tr th {\n",
       "        vertical-align: top;\n",
       "    }\n",
       "\n",
       "    .dataframe thead th {\n",
       "        text-align: right;\n",
       "    }\n",
       "</style>\n",
       "<table border=\"1\" class=\"dataframe\">\n",
       "  <thead>\n",
       "    <tr style=\"text-align: right;\">\n",
       "      <th></th>\n",
       "      <th>paper_id</th>\n",
       "      <th>title</th>\n",
       "      <th>authors</th>\n",
       "      <th>affiliations</th>\n",
       "      <th>abstract</th>\n",
       "      <th>text</th>\n",
       "      <th>bibliography</th>\n",
       "      <th>raw_authors</th>\n",
       "      <th>raw_bibliography</th>\n",
       "    </tr>\n",
       "  </thead>\n",
       "  <tbody>\n",
       "    <tr>\n",
       "      <td>0</td>\n",
       "      <td>0015023cc06b5362d332b3baf348d11567ca2fbb</td>\n",
       "      <td>The RNA pseudoknots in foot-and-mouth disease ...</td>\n",
       "      <td>Joseph C Ward, Lidia Lasecka-Dykes, Chris Neil...</td>\n",
       "      <td>Joseph C Ward, Lidia Lasecka-Dykes, Chris Neil...</td>\n",
       "      <td>Abstract\\n\\nword count: 194 22 Text word count...</td>\n",
       "      <td>\\n\\nVP3, and VP0 (which is further processed t...</td>\n",
       "      <td>Genetic economy in 598 picornaviruses: Foot-an...</td>\n",
       "      <td>[{'first': 'Joseph', 'middle': ['C'], 'last': ...</td>\n",
       "      <td>{'BIBREF0': {'ref_id': 'b0', 'title': 'Genetic...</td>\n",
       "    </tr>\n",
       "    <tr>\n",
       "      <td>1</td>\n",
       "      <td>004f0f8bb66cf446678dc13cf2701feec4f36d76</td>\n",
       "      <td>Healthcare-resource-adjusted vulnerabilities t...</td>\n",
       "      <td>Hanchu Zhou, Jiannan Yang, Kaicheng Tang, † , ...</td>\n",
       "      <td>Hanchu Zhou (City University of Hong Kong, Hon...</td>\n",
       "      <td></td>\n",
       "      <td>Introduction\\n\\nThe 2019-nCoV epidemic has spr...</td>\n",
       "      <td>World Health Organizations. Novel Coronavirus ...</td>\n",
       "      <td>[{'first': 'Hanchu', 'middle': [], 'last': 'Zh...</td>\n",
       "      <td>{'BIBREF0': {'ref_id': 'b0', 'title': 'World H...</td>\n",
       "    </tr>\n",
       "    <tr>\n",
       "      <td>2</td>\n",
       "      <td>00d16927588fb04d4be0e6b269fc02f0d3c2aa7b</td>\n",
       "      <td>Real-time, MinION-based, amplicon sequencing f...</td>\n",
       "      <td>Salman L Butt, Eric C Erwood, Jian Zhang, Holl...</td>\n",
       "      <td>Salman L Butt (University of Georgia, 30602, A...</td>\n",
       "      <td>Abstract\\n\\nInfectious bronchitis (IB) causes ...</td>\n",
       "      <td>Introduction\\n\\nInfectious bronchitis (IB), wh...</td>\n",
       "      <td>Emergence of novel strains of avian infectious...</td>\n",
       "      <td>[{'first': 'Salman', 'middle': ['L'], 'last': ...</td>\n",
       "      <td>{'BIBREF0': {'ref_id': 'b0', 'title': 'Emergen...</td>\n",
       "    </tr>\n",
       "    <tr>\n",
       "      <td>3</td>\n",
       "      <td>013d9d1cba8a54d5d3718c229b812d7cf91b6c89</td>\n",
       "      <td>Assessing spread risk of Wuhan novel coronavir...</td>\n",
       "      <td>Shengjie Lai, Isaac I Bogoch, Nick W Ruktanonc...</td>\n",
       "      <td>Shengjie Lai (University of Southampton, UK), ...</td>\n",
       "      <td>Abstract\\n\\nBackground: A novel coronavirus (2...</td>\n",
       "      <td>Introduction\\n\\nIn December 2019, a cluster of...</td>\n",
       "      <td>A Novel Coronavirus Genome Identified in a Clu...</td>\n",
       "      <td>[{'first': 'Shengjie', 'middle': [], 'last': '...</td>\n",
       "      <td>{'BIBREF0': {'ref_id': 'b0', 'title': 'A Novel...</td>\n",
       "    </tr>\n",
       "    <tr>\n",
       "      <td>4</td>\n",
       "      <td>01d162d7fae6aaba8e6e60e563ef4c2fca7b0e18</td>\n",
       "      <td>TWIRLS, an automated topic-wise inference meth...</td>\n",
       "      <td>Xiaoyang Ji, Chunming Zhang, Yubo Zhai, Zhongh...</td>\n",
       "      <td>Xiaoyang Ji (Chinese Academy of Sciences, Beij...</td>\n",
       "      <td>Abstract\\n\\nFaced with the current large-scale...</td>\n",
       "      <td>Introduction\\n\\nThe sudden outbreak of the new...</td>\n",
       "      <td>A pneumonia outbreak associated with a new cor...</td>\n",
       "      <td>[{'first': 'Xiaoyang', 'middle': [], 'last': '...</td>\n",
       "      <td>{'BIBREF0': {'ref_id': 'b0', 'title': 'A pneum...</td>\n",
       "    </tr>\n",
       "  </tbody>\n",
       "</table>\n",
       "</div>"
      ],
      "text/plain": [
       "                                   paper_id  \\\n",
       "0  0015023cc06b5362d332b3baf348d11567ca2fbb   \n",
       "1  004f0f8bb66cf446678dc13cf2701feec4f36d76   \n",
       "2  00d16927588fb04d4be0e6b269fc02f0d3c2aa7b   \n",
       "3  013d9d1cba8a54d5d3718c229b812d7cf91b6c89   \n",
       "4  01d162d7fae6aaba8e6e60e563ef4c2fca7b0e18   \n",
       "\n",
       "                                               title  \\\n",
       "0  The RNA pseudoknots in foot-and-mouth disease ...   \n",
       "1  Healthcare-resource-adjusted vulnerabilities t...   \n",
       "2  Real-time, MinION-based, amplicon sequencing f...   \n",
       "3  Assessing spread risk of Wuhan novel coronavir...   \n",
       "4  TWIRLS, an automated topic-wise inference meth...   \n",
       "\n",
       "                                             authors  \\\n",
       "0  Joseph C Ward, Lidia Lasecka-Dykes, Chris Neil...   \n",
       "1  Hanchu Zhou, Jiannan Yang, Kaicheng Tang, † , ...   \n",
       "2  Salman L Butt, Eric C Erwood, Jian Zhang, Holl...   \n",
       "3  Shengjie Lai, Isaac I Bogoch, Nick W Ruktanonc...   \n",
       "4  Xiaoyang Ji, Chunming Zhang, Yubo Zhai, Zhongh...   \n",
       "\n",
       "                                        affiliations  \\\n",
       "0  Joseph C Ward, Lidia Lasecka-Dykes, Chris Neil...   \n",
       "1  Hanchu Zhou (City University of Hong Kong, Hon...   \n",
       "2  Salman L Butt (University of Georgia, 30602, A...   \n",
       "3  Shengjie Lai (University of Southampton, UK), ...   \n",
       "4  Xiaoyang Ji (Chinese Academy of Sciences, Beij...   \n",
       "\n",
       "                                            abstract  \\\n",
       "0  Abstract\\n\\nword count: 194 22 Text word count...   \n",
       "1                                                      \n",
       "2  Abstract\\n\\nInfectious bronchitis (IB) causes ...   \n",
       "3  Abstract\\n\\nBackground: A novel coronavirus (2...   \n",
       "4  Abstract\\n\\nFaced with the current large-scale...   \n",
       "\n",
       "                                                text  \\\n",
       "0  \\n\\nVP3, and VP0 (which is further processed t...   \n",
       "1  Introduction\\n\\nThe 2019-nCoV epidemic has spr...   \n",
       "2  Introduction\\n\\nInfectious bronchitis (IB), wh...   \n",
       "3  Introduction\\n\\nIn December 2019, a cluster of...   \n",
       "4  Introduction\\n\\nThe sudden outbreak of the new...   \n",
       "\n",
       "                                        bibliography  \\\n",
       "0  Genetic economy in 598 picornaviruses: Foot-an...   \n",
       "1  World Health Organizations. Novel Coronavirus ...   \n",
       "2  Emergence of novel strains of avian infectious...   \n",
       "3  A Novel Coronavirus Genome Identified in a Clu...   \n",
       "4  A pneumonia outbreak associated with a new cor...   \n",
       "\n",
       "                                         raw_authors  \\\n",
       "0  [{'first': 'Joseph', 'middle': ['C'], 'last': ...   \n",
       "1  [{'first': 'Hanchu', 'middle': [], 'last': 'Zh...   \n",
       "2  [{'first': 'Salman', 'middle': ['L'], 'last': ...   \n",
       "3  [{'first': 'Shengjie', 'middle': [], 'last': '...   \n",
       "4  [{'first': 'Xiaoyang', 'middle': [], 'last': '...   \n",
       "\n",
       "                                    raw_bibliography  \n",
       "0  {'BIBREF0': {'ref_id': 'b0', 'title': 'Genetic...  \n",
       "1  {'BIBREF0': {'ref_id': 'b0', 'title': 'World H...  \n",
       "2  {'BIBREF0': {'ref_id': 'b0', 'title': 'Emergen...  \n",
       "3  {'BIBREF0': {'ref_id': 'b0', 'title': 'A Novel...  \n",
       "4  {'BIBREF0': {'ref_id': 'b0', 'title': 'A pneum...  "
      ]
     },
     "execution_count": 26,
     "metadata": {},
     "output_type": "execute_result"
    }
   ],
   "source": [
    "col_names = [\n",
    "    'paper_id', \n",
    "    'title', \n",
    "    'authors',\n",
    "    'affiliations', \n",
    "    'abstract', \n",
    "    'text', \n",
    "    'bibliography',\n",
    "    'raw_authors',\n",
    "    'raw_bibliography'\n",
    "]\n",
    "\n",
    "clean_df = pd.DataFrame(cleaned_files, columns=col_names)\n",
    "clean_df.head()"
   ]
  },
  {
   "cell_type": "code",
   "execution_count": 27,
   "metadata": {},
   "outputs": [],
   "source": [
    "clean_df.to_csv('biorxiv_clean.csv', index=False)"
   ]
  },
  {
   "cell_type": "code",
   "execution_count": null,
   "metadata": {},
   "outputs": [],
   "source": []
  }
 ],
 "metadata": {
  "kernelspec": {
   "display_name": "Python 3",
   "language": "python",
   "name": "python3"
  },
  "language_info": {
   "codemirror_mode": {
    "name": "ipython",
    "version": 3
   },
   "file_extension": ".py",
   "mimetype": "text/x-python",
   "name": "python",
   "nbconvert_exporter": "python",
   "pygments_lexer": "ipython3",
   "version": "3.7.4"
  }
 },
 "nbformat": 4,
 "nbformat_minor": 2
}
