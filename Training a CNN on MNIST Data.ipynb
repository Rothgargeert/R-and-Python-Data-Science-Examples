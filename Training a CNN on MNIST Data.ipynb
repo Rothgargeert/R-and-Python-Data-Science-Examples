{
 "cells": [
  {
   "cell_type": "code",
   "execution_count": 1,
   "metadata": {},
   "outputs": [
    {
     "name": "stderr",
     "output_type": "stream",
     "text": [
      "Using TensorFlow backend.\n"
     ]
    }
   ],
   "source": [
    "import keras"
   ]
  },
  {
   "cell_type": "code",
   "execution_count": 6,
   "metadata": {},
   "outputs": [],
   "source": [
    "from keras.datasets import mnist"
   ]
  },
  {
   "cell_type": "code",
   "execution_count": 7,
   "metadata": {},
   "outputs": [],
   "source": [
    "from keras.models import Sequential"
   ]
  },
  {
   "cell_type": "code",
   "execution_count": 8,
   "metadata": {},
   "outputs": [],
   "source": [
    "from keras.layers import Dense, Dropout, Flatten, Activation"
   ]
  },
  {
   "cell_type": "code",
   "execution_count": 9,
   "metadata": {},
   "outputs": [],
   "source": [
    "from keras.layers import Conv2D, MaxPooling2D"
   ]
  },
  {
   "cell_type": "code",
   "execution_count": 10,
   "metadata": {},
   "outputs": [],
   "source": [
    "from keras import backend as K"
   ]
  },
  {
   "cell_type": "code",
   "execution_count": 11,
   "metadata": {},
   "outputs": [],
   "source": [
    "from keras.layers.normalization import BatchNormalization"
   ]
  },
  {
   "cell_type": "code",
   "execution_count": 13,
   "metadata": {},
   "outputs": [],
   "source": [
    "import matplotlib.pyplot as plt"
   ]
  },
  {
   "cell_type": "code",
   "execution_count": 14,
   "metadata": {},
   "outputs": [],
   "source": [
    "from keras.utils import np_utils"
   ]
  },
  {
   "cell_type": "code",
   "execution_count": 22,
   "metadata": {},
   "outputs": [],
   "source": [
    "batch_size = 128\n",
    "num_classes = 10\n",
    "epochs = 12\n"
   ]
  },
  {
   "cell_type": "code",
   "execution_count": 23,
   "metadata": {},
   "outputs": [],
   "source": [
    "img_rows, img_cols = 28, 28"
   ]
  },
  {
   "cell_type": "code",
   "execution_count": 24,
   "metadata": {},
   "outputs": [],
   "source": [
    "# the data, shuffled and split between train and test sets \n",
    "(x_train, y_train), (x_test, y_test) = mnist.load_data()\n",
    "\n"
   ]
  },
  {
   "cell_type": "code",
   "execution_count": 25,
   "metadata": {},
   "outputs": [],
   "source": [
    "# preprocessing \n",
    "if K.image_data_format() == 'channels_first': \n",
    "    X_train = X_train.reshape(X_train.shape[0], 1, img_rows, img_cols)\n",
    "    X_test = X_test.reshape(X_test.shape[0], 1, img_rows, img_cols)\n",
    "    input_shape = (1, img_rows, img_cols) \n",
    "else: \n",
    "    X_train = x_train.reshape(X_train.shape[0], img_rows, img_cols, 1)\n",
    "    X_test = X_test.reshape(X_test.shape[0], img_rows, img_cols, 1)\n",
    "    input_shape = (img_rows, img_cols, 1)\n"
   ]
  },
  {
   "cell_type": "code",
   "execution_count": 26,
   "metadata": {},
   "outputs": [],
   "source": [
    "# normalize inputs from 0-255 to 0-1 \n",
    "X_train = X_train/255 \n",
    "X_test = X_test/ 255 \n",
    "# one hot encode outputs \n",
    "Y_test = y_test \n",
    "y_train = np_utils.to_categorical(y_train) \n",
    "y_test = np_utils.to_categorical(y_test) \n",
    "num_classes = y_test.shape[1] \n"
   ]
  },
  {
   "cell_type": "code",
   "execution_count": 27,
   "metadata": {},
   "outputs": [],
   "source": [
    "model = Sequential() \n",
    "model.add(Conv2D(32, (3, 3), input_shape=(28,28,1)))\n",
    "model.add(Activation('relu')) \n",
    "BatchNormalization(axis=-1) \n",
    "model.add(MaxPooling2D(pool_size=(2,2))) \n",
    "BatchNormalization(axis=-1) \n",
    "model.add(Conv2D(64,(3, 3))) \n",
    "model.add(Activation('relu')) \n",
    "BatchNormalization(axis=-1) \n",
    "model.add(MaxPooling2D(pool_size=(2,2))) \n"
   ]
  },
  {
   "cell_type": "code",
   "execution_count": 28,
   "metadata": {},
   "outputs": [],
   "source": [
    "# Fully connected layer \n",
    "model.add(Flatten()) \n",
    "BatchNormalization() \n",
    "model.add(Dense(512)) \n",
    "model.add(Activation('relu')) \n",
    "BatchNormalization() \n",
    "model.add(Dropout(0.2)) \n",
    "model.add(Dense(10)) \n",
    "model.add(Activation('softmax'))\n"
   ]
  },
  {
   "cell_type": "code",
   "execution_count": 29,
   "metadata": {},
   "outputs": [
    {
     "name": "stdout",
     "output_type": "stream",
     "text": [
      "Epoch 1/10\n",
      "60000/60000 [==============================] - 26s 441us/step - loss: 0.1835 - accuracy: 0.9458\n",
      "Epoch 2/10\n",
      "60000/60000 [==============================] - 28s 463us/step - loss: 0.0498 - accuracy: 0.9845\n",
      "Epoch 3/10\n",
      "60000/60000 [==============================] - 27s 454us/step - loss: 0.0332 - accuracy: 0.9895\n",
      "Epoch 4/10\n",
      "60000/60000 [==============================] - 28s 459us/step - loss: 0.0240 - accuracy: 0.9926\n",
      "Epoch 5/10\n",
      "60000/60000 [==============================] - 27s 457us/step - loss: 0.0192 - accuracy: 0.9938\n",
      "Epoch 6/10\n",
      "60000/60000 [==============================] - 27s 449us/step - loss: 0.0153 - accuracy: 0.9949\n",
      "Epoch 7/10\n",
      "60000/60000 [==============================] - 27s 449us/step - loss: 0.0122 - accuracy: 0.9961\n",
      "Epoch 8/10\n",
      "60000/60000 [==============================] - 29s 491us/step - loss: 0.0112 - accuracy: 0.9963\n",
      "Epoch 9/10\n",
      "60000/60000 [==============================] - 28s 474us/step - loss: 0.0097 - accuracy: 0.9968\n",
      "Epoch 10/10\n",
      "60000/60000 [==============================] - 27s 457us/step - loss: 0.0088 - accuracy: 0.9970\n",
      "10000/10000 [==============================] - 1s 109us/step\n",
      "Test loss: 0.03014060904982034\n",
      "Test accuracy: 0.9908000230789185\n"
     ]
    }
   ],
   "source": [
    "model.compile(loss='categorical_crossentropy', optimizer='adam', metrics=['accuracy']) \n",
    "model.fit(X_train, y_train, batch_size=128, epochs=10) \n",
    "score = model.evaluate(X_test, y_test) \n",
    "print('Test loss:', score[0]) \n",
    "print('Test accuracy:', score[1])\n"
   ]
  },
  {
   "cell_type": "code",
   "execution_count": null,
   "metadata": {},
   "outputs": [],
   "source": []
  }
 ],
 "metadata": {
  "kernelspec": {
   "display_name": "Python 3",
   "language": "python",
   "name": "python3"
  },
  "language_info": {
   "codemirror_mode": {
    "name": "ipython",
    "version": 3
   },
   "file_extension": ".py",
   "mimetype": "text/x-python",
   "name": "python",
   "nbconvert_exporter": "python",
   "pygments_lexer": "ipython3",
   "version": "3.7.4"
  }
 },
 "nbformat": 4,
 "nbformat_minor": 2
}
