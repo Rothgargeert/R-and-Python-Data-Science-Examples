{
 "cells": [
  {
   "cell_type": "code",
   "execution_count": 1,
   "metadata": {},
   "outputs": [
    {
     "name": "stderr",
     "output_type": "stream",
     "text": [
      "Using TensorFlow backend.\n"
     ]
    },
    {
     "name": "stdout",
     "output_type": "stream",
     "text": [
      "x_train shape: (60000, 28, 28, 1)\n",
      "60000 train samples\n",
      "10000 test samples\n",
      "Train on 48000 samples, validate on 12000 samples\n",
      "Epoch 1/12\n",
      "48000/48000 [==============================] - 43s 901us/sample - loss: 0.2932 - accuracy: 0.9100 - val_loss: 0.0716 - val_accuracy: 0.9799\n",
      "Epoch 2/12\n",
      "48000/48000 [==============================] - 44s 927us/sample - loss: 0.1021 - accuracy: 0.9690 - val_loss: 0.0550 - val_accuracy: 0.9834\n",
      "Epoch 3/12\n",
      "48000/48000 [==============================] - 44s 925us/sample - loss: 0.0748 - accuracy: 0.9771 - val_loss: 0.0431 - val_accuracy: 0.9876\n",
      "Epoch 4/12\n",
      "48000/48000 [==============================] - 45s 928us/sample - loss: 0.0592 - accuracy: 0.9811 - val_loss: 0.0420 - val_accuracy: 0.9878\n",
      "Epoch 5/12\n",
      "48000/48000 [==============================] - 44s 921us/sample - loss: 0.0513 - accuracy: 0.9840 - val_loss: 0.0379 - val_accuracy: 0.9894\n",
      "Epoch 6/12\n",
      "48000/48000 [==============================] - 45s 927us/sample - loss: 0.0443 - accuracy: 0.9862 - val_loss: 0.0362 - val_accuracy: 0.9896\n",
      "Epoch 7/12\n",
      "48000/48000 [==============================] - 44s 921us/sample - loss: 0.0392 - accuracy: 0.9874 - val_loss: 0.0388 - val_accuracy: 0.9898\n",
      "Epoch 8/12\n",
      "48000/48000 [==============================] - 45s 929us/sample - loss: 0.0355 - accuracy: 0.9888 - val_loss: 0.0359 - val_accuracy: 0.9900\n",
      "Epoch 9/12\n",
      "48000/48000 [==============================] - 45s 931us/sample - loss: 0.0324 - accuracy: 0.9891 - val_loss: 0.0369 - val_accuracy: 0.9898\n",
      "Epoch 10/12\n",
      "48000/48000 [==============================] - 44s 923us/sample - loss: 0.0312 - accuracy: 0.9901 - val_loss: 0.0361 - val_accuracy: 0.9899\n",
      "Epoch 11/12\n",
      "48000/48000 [==============================] - 44s 922us/sample - loss: 0.0263 - accuracy: 0.9912 - val_loss: 0.0363 - val_accuracy: 0.9910\n",
      "Epoch 12/12\n",
      "48000/48000 [==============================] - 44s 925us/sample - loss: 0.0233 - accuracy: 0.9922 - val_loss: 0.0386 - val_accuracy: 0.9904\n",
      "Test loss: 0.034310798855012335\n",
      "Test accuracy: 0.9904\n",
      "537.9084031581879\n"
     ]
    }
   ],
   "source": [
    "import time \n",
    "start = time.time() \n",
    "%run \"mnist_cnn.py\"\n",
    "end = time.time() \n",
    "print(end - start)"
   ]
  },
  {
   "cell_type": "code",
   "execution_count": null,
   "metadata": {},
   "outputs": [],
   "source": []
  }
 ],
 "metadata": {
  "kernelspec": {
   "display_name": "Python 3",
   "language": "python",
   "name": "python3"
  },
  "language_info": {
   "codemirror_mode": {
    "name": "ipython",
    "version": 3
   },
   "file_extension": ".py",
   "mimetype": "text/x-python",
   "name": "python",
   "nbconvert_exporter": "python",
   "pygments_lexer": "ipython3",
   "version": "3.7.4"
  }
 },
 "nbformat": 4,
 "nbformat_minor": 2
}
